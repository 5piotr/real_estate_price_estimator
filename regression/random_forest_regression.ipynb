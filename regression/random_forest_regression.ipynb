{
 "cells": [
  {
   "cell_type": "code",
   "execution_count": 1,
   "metadata": {},
   "outputs": [],
   "source": [
    "import numpy as np\n",
    "import matplotlib.pyplot as plt\n",
    "import pandas as pd\n",
    "import pickle as pkl\n",
    "import seaborn as sns\n",
    "import time"
   ]
  },
  {
   "cell_type": "markdown",
   "metadata": {},
   "source": [
    "## loading model with dummy variables and $m^{2}$ as value to predict"
   ]
  },
  {
   "cell_type": "code",
   "execution_count": 2,
   "metadata": {},
   "outputs": [],
   "source": [
    "infile = open('..//real_estate_data_frame_sqr_dummy','rb')\n",
    "frame = pkl.load(infile)\n",
    "infile.close()"
   ]
  },
  {
   "cell_type": "code",
   "execution_count": 3,
   "metadata": {},
   "outputs": [],
   "source": [
    "X = frame.iloc[:, 1:].values"
   ]
  },
  {
   "cell_type": "code",
   "execution_count": 4,
   "metadata": {},
   "outputs": [],
   "source": [
    "y = frame.iloc[:, 0].values"
   ]
  },
  {
   "cell_type": "markdown",
   "metadata": {},
   "source": [
    "## train test split"
   ]
  },
  {
   "cell_type": "code",
   "execution_count": 5,
   "metadata": {},
   "outputs": [],
   "source": [
    "from sklearn.model_selection import train_test_split"
   ]
  },
  {
   "cell_type": "code",
   "execution_count": 6,
   "metadata": {},
   "outputs": [],
   "source": [
    "X_train, X_test, y_train, y_test = train_test_split(X, y, test_size = 0.25)"
   ]
  },
  {
   "cell_type": "markdown",
   "metadata": {},
   "source": [
    "## random forest regressor and grid search"
   ]
  },
  {
   "cell_type": "code",
   "execution_count": 7,
   "metadata": {},
   "outputs": [],
   "source": [
    "from sklearn.model_selection import GridSearchCV\n",
    "from sklearn.ensemble import RandomForestRegressor"
   ]
  },
  {
   "cell_type": "code",
   "execution_count": 8,
   "metadata": {},
   "outputs": [],
   "source": [
    "parameters = [{'n_estimators':[50,100,200,300,400,500]}]"
   ]
  },
  {
   "cell_type": "code",
   "execution_count": 9,
   "metadata": {},
   "outputs": [],
   "source": [
    "grid_search = GridSearchCV(estimator = RandomForestRegressor(),\n",
    "                           param_grid = parameters,\n",
    "                           cv = 10,\n",
    "                           n_jobs = -1)"
   ]
  },
  {
   "cell_type": "code",
   "execution_count": 12,
   "metadata": {},
   "outputs": [
    {
     "name": "stdout",
     "output_type": "stream",
     "text": [
      "\n",
      " 197.0 min.\n"
     ]
    }
   ],
   "source": [
    "start = time.time()\n",
    "\n",
    "grid_search = grid_search.fit(X_train, y_train)\n",
    "\n",
    "stop = time.time()\n",
    "print('\\n',(stop-start)//60,'min.')"
   ]
  },
  {
   "cell_type": "code",
   "execution_count": 15,
   "metadata": {},
   "outputs": [
    {
     "data": {
      "text/plain": [
       "0.45755166419737137"
      ]
     },
     "execution_count": 15,
     "metadata": {},
     "output_type": "execute_result"
    }
   ],
   "source": [
    "grid_search.best_score_"
   ]
  },
  {
   "cell_type": "code",
   "execution_count": 16,
   "metadata": {},
   "outputs": [
    {
     "data": {
      "text/plain": [
       "{'n_estimators': 200}"
      ]
     },
     "execution_count": 16,
     "metadata": {},
     "output_type": "execute_result"
    }
   ],
   "source": [
    "grid_search.best_params_"
   ]
  },
  {
   "cell_type": "code",
   "execution_count": 18,
   "metadata": {},
   "outputs": [
    {
     "data": {
      "text/html": [
       "<div>\n",
       "<style scoped>\n",
       "    .dataframe tbody tr th:only-of-type {\n",
       "        vertical-align: middle;\n",
       "    }\n",
       "\n",
       "    .dataframe tbody tr th {\n",
       "        vertical-align: top;\n",
       "    }\n",
       "\n",
       "    .dataframe thead th {\n",
       "        text-align: right;\n",
       "    }\n",
       "</style>\n",
       "<table border=\"1\" class=\"dataframe\">\n",
       "  <thead>\n",
       "    <tr style=\"text-align: right;\">\n",
       "      <th></th>\n",
       "      <th>mean_fit_time</th>\n",
       "      <th>std_fit_time</th>\n",
       "      <th>mean_score_time</th>\n",
       "      <th>std_score_time</th>\n",
       "      <th>param_n_estimators</th>\n",
       "      <th>params</th>\n",
       "      <th>split0_test_score</th>\n",
       "      <th>split1_test_score</th>\n",
       "      <th>split2_test_score</th>\n",
       "      <th>split3_test_score</th>\n",
       "      <th>split4_test_score</th>\n",
       "      <th>split5_test_score</th>\n",
       "      <th>split6_test_score</th>\n",
       "      <th>split7_test_score</th>\n",
       "      <th>split8_test_score</th>\n",
       "      <th>split9_test_score</th>\n",
       "      <th>mean_test_score</th>\n",
       "      <th>std_test_score</th>\n",
       "      <th>rank_test_score</th>\n",
       "    </tr>\n",
       "  </thead>\n",
       "  <tbody>\n",
       "    <tr>\n",
       "      <th>0</th>\n",
       "      <td>349.040461</td>\n",
       "      <td>18.938045</td>\n",
       "      <td>0.088519</td>\n",
       "      <td>0.011678</td>\n",
       "      <td>50</td>\n",
       "      <td>{'n_estimators': 50}</td>\n",
       "      <td>0.486875</td>\n",
       "      <td>0.392181</td>\n",
       "      <td>0.486720</td>\n",
       "      <td>0.437280</td>\n",
       "      <td>0.534692</td>\n",
       "      <td>0.454456</td>\n",
       "      <td>0.426297</td>\n",
       "      <td>0.410260</td>\n",
       "      <td>0.372177</td>\n",
       "      <td>0.491971</td>\n",
       "      <td>0.449291</td>\n",
       "      <td>0.048332</td>\n",
       "      <td>5</td>\n",
       "    </tr>\n",
       "    <tr>\n",
       "      <th>1</th>\n",
       "      <td>559.833849</td>\n",
       "      <td>58.544377</td>\n",
       "      <td>0.151542</td>\n",
       "      <td>0.035065</td>\n",
       "      <td>100</td>\n",
       "      <td>{'n_estimators': 100}</td>\n",
       "      <td>0.484607</td>\n",
       "      <td>0.376853</td>\n",
       "      <td>0.483030</td>\n",
       "      <td>0.447767</td>\n",
       "      <td>0.537485</td>\n",
       "      <td>0.451330</td>\n",
       "      <td>0.416644</td>\n",
       "      <td>0.421038</td>\n",
       "      <td>0.379828</td>\n",
       "      <td>0.491458</td>\n",
       "      <td>0.449004</td>\n",
       "      <td>0.048871</td>\n",
       "      <td>6</td>\n",
       "    </tr>\n",
       "    <tr>\n",
       "      <th>2</th>\n",
       "      <td>1330.955970</td>\n",
       "      <td>107.404617</td>\n",
       "      <td>0.321766</td>\n",
       "      <td>0.039692</td>\n",
       "      <td>200</td>\n",
       "      <td>{'n_estimators': 200}</td>\n",
       "      <td>0.482261</td>\n",
       "      <td>0.397714</td>\n",
       "      <td>0.491493</td>\n",
       "      <td>0.453523</td>\n",
       "      <td>0.537546</td>\n",
       "      <td>0.460330</td>\n",
       "      <td>0.435200</td>\n",
       "      <td>0.437045</td>\n",
       "      <td>0.377658</td>\n",
       "      <td>0.502747</td>\n",
       "      <td>0.457552</td>\n",
       "      <td>0.045948</td>\n",
       "      <td>1</td>\n",
       "    </tr>\n",
       "    <tr>\n",
       "      <th>3</th>\n",
       "      <td>1765.397736</td>\n",
       "      <td>63.647513</td>\n",
       "      <td>0.444092</td>\n",
       "      <td>0.045071</td>\n",
       "      <td>300</td>\n",
       "      <td>{'n_estimators': 300}</td>\n",
       "      <td>0.484408</td>\n",
       "      <td>0.386079</td>\n",
       "      <td>0.482865</td>\n",
       "      <td>0.450004</td>\n",
       "      <td>0.538785</td>\n",
       "      <td>0.457828</td>\n",
       "      <td>0.427848</td>\n",
       "      <td>0.435244</td>\n",
       "      <td>0.380176</td>\n",
       "      <td>0.498558</td>\n",
       "      <td>0.454179</td>\n",
       "      <td>0.046969</td>\n",
       "      <td>3</td>\n",
       "    </tr>\n",
       "    <tr>\n",
       "      <th>4</th>\n",
       "      <td>2244.430002</td>\n",
       "      <td>115.866474</td>\n",
       "      <td>0.596403</td>\n",
       "      <td>0.079162</td>\n",
       "      <td>400</td>\n",
       "      <td>{'n_estimators': 400}</td>\n",
       "      <td>0.483783</td>\n",
       "      <td>0.378773</td>\n",
       "      <td>0.489899</td>\n",
       "      <td>0.451774</td>\n",
       "      <td>0.540638</td>\n",
       "      <td>0.455552</td>\n",
       "      <td>0.423992</td>\n",
       "      <td>0.437970</td>\n",
       "      <td>0.378991</td>\n",
       "      <td>0.498992</td>\n",
       "      <td>0.454036</td>\n",
       "      <td>0.049149</td>\n",
       "      <td>4</td>\n",
       "    </tr>\n",
       "    <tr>\n",
       "      <th>5</th>\n",
       "      <td>2503.353891</td>\n",
       "      <td>390.862292</td>\n",
       "      <td>0.544058</td>\n",
       "      <td>0.200654</td>\n",
       "      <td>500</td>\n",
       "      <td>{'n_estimators': 500}</td>\n",
       "      <td>0.485248</td>\n",
       "      <td>0.379490</td>\n",
       "      <td>0.487673</td>\n",
       "      <td>0.450621</td>\n",
       "      <td>0.536913</td>\n",
       "      <td>0.452012</td>\n",
       "      <td>0.438496</td>\n",
       "      <td>0.439580</td>\n",
       "      <td>0.379735</td>\n",
       "      <td>0.497707</td>\n",
       "      <td>0.454748</td>\n",
       "      <td>0.047350</td>\n",
       "      <td>2</td>\n",
       "    </tr>\n",
       "  </tbody>\n",
       "</table>\n",
       "</div>"
      ],
      "text/plain": [
       "   mean_fit_time  std_fit_time  mean_score_time  std_score_time  \\\n",
       "0     349.040461     18.938045         0.088519        0.011678   \n",
       "1     559.833849     58.544377         0.151542        0.035065   \n",
       "2    1330.955970    107.404617         0.321766        0.039692   \n",
       "3    1765.397736     63.647513         0.444092        0.045071   \n",
       "4    2244.430002    115.866474         0.596403        0.079162   \n",
       "5    2503.353891    390.862292         0.544058        0.200654   \n",
       "\n",
       "  param_n_estimators                 params  split0_test_score  \\\n",
       "0                 50   {'n_estimators': 50}           0.486875   \n",
       "1                100  {'n_estimators': 100}           0.484607   \n",
       "2                200  {'n_estimators': 200}           0.482261   \n",
       "3                300  {'n_estimators': 300}           0.484408   \n",
       "4                400  {'n_estimators': 400}           0.483783   \n",
       "5                500  {'n_estimators': 500}           0.485248   \n",
       "\n",
       "   split1_test_score  split2_test_score  split3_test_score  split4_test_score  \\\n",
       "0           0.392181           0.486720           0.437280           0.534692   \n",
       "1           0.376853           0.483030           0.447767           0.537485   \n",
       "2           0.397714           0.491493           0.453523           0.537546   \n",
       "3           0.386079           0.482865           0.450004           0.538785   \n",
       "4           0.378773           0.489899           0.451774           0.540638   \n",
       "5           0.379490           0.487673           0.450621           0.536913   \n",
       "\n",
       "   split5_test_score  split6_test_score  split7_test_score  split8_test_score  \\\n",
       "0           0.454456           0.426297           0.410260           0.372177   \n",
       "1           0.451330           0.416644           0.421038           0.379828   \n",
       "2           0.460330           0.435200           0.437045           0.377658   \n",
       "3           0.457828           0.427848           0.435244           0.380176   \n",
       "4           0.455552           0.423992           0.437970           0.378991   \n",
       "5           0.452012           0.438496           0.439580           0.379735   \n",
       "\n",
       "   split9_test_score  mean_test_score  std_test_score  rank_test_score  \n",
       "0           0.491971         0.449291        0.048332                5  \n",
       "1           0.491458         0.449004        0.048871                6  \n",
       "2           0.502747         0.457552        0.045948                1  \n",
       "3           0.498558         0.454179        0.046969                3  \n",
       "4           0.498992         0.454036        0.049149                4  \n",
       "5           0.497707         0.454748        0.047350                2  "
      ]
     },
     "execution_count": 18,
     "metadata": {},
     "output_type": "execute_result"
    }
   ],
   "source": [
    "pd.DataFrame(grid_search.cv_results_)"
   ]
  },
  {
   "cell_type": "code",
   "execution_count": 8,
   "metadata": {},
   "outputs": [
    {
     "name": "stdout",
     "output_type": "stream",
     "text": [
      "\n",
      " 6.0 min.\n"
     ]
    }
   ],
   "source": [
    "start = time.time()\n",
    "\n",
    "model = RandomForestRegressor(n_estimators = 200, random_state = 0)\n",
    "model.fit(X_train, y_train)\n",
    "\n",
    "stop = time.time()\n",
    "print('\\n',(stop-start)//60,'min.')"
   ]
  },
  {
   "cell_type": "markdown",
   "metadata": {},
   "source": [
    "## model evaluation"
   ]
  },
  {
   "cell_type": "code",
   "execution_count": 9,
   "metadata": {},
   "outputs": [],
   "source": [
    "from sklearn.metrics import r2_score"
   ]
  },
  {
   "cell_type": "code",
   "execution_count": 10,
   "metadata": {},
   "outputs": [],
   "source": [
    "predictions = model.predict(X_test)"
   ]
  },
  {
   "cell_type": "code",
   "execution_count": 11,
   "metadata": {},
   "outputs": [
    {
     "data": {
      "text/plain": [
       "0.5604856612796938"
      ]
     },
     "execution_count": 11,
     "metadata": {},
     "output_type": "execute_result"
    }
   ],
   "source": [
    "r2_score(y_test,predictions)"
   ]
  },
  {
   "cell_type": "code",
   "execution_count": 12,
   "metadata": {},
   "outputs": [
    {
     "data": {
      "text/plain": [
       "[<matplotlib.lines.Line2D at 0x298312afa58>]"
      ]
     },
     "execution_count": 12,
     "metadata": {},
     "output_type": "execute_result"
    },
    {
     "data": {
      "image/png": "[encoded data removed]",
      "text/plain": [
       "<Figure size 504x504 with 1 Axes>"
      ]
     },
     "metadata": {
      "needs_background": "light"
     },
     "output_type": "display_data"
    }
   ],
   "source": [
    "plt.figure(figsize=(7,7))\n",
    "# plt.xlim(700,2500)\n",
    "# plt.ylim(0,500)\n",
    "\n",
    "# predictions\n",
    "plt.scatter(y_test,predictions,edgecolor=None,alpha=0.2)\n",
    "\n",
    "# perfect predictions\n",
    "plt.plot(y_test,y_test,'r')"
   ]
  },
  {
   "cell_type": "code",
   "execution_count": 13,
   "metadata": {},
   "outputs": [
    {
     "data": {
      "text/plain": [
       "array([148.65143456,  58.10095606, 281.12370439, ...,  67.88813803,\n",
       "       407.16009048, 616.98774076])"
      ]
     },
     "execution_count": 13,
     "metadata": {},
     "output_type": "execute_result"
    }
   ],
   "source": [
    "predictions"
   ]
  },
  {
   "cell_type": "code",
   "execution_count": 14,
   "metadata": {},
   "outputs": [
    {
     "data": {
      "text/plain": [
       "array([1.36530625, 2.19492501, 1.12449482, 1.27659113, 0.84299564,\n",
       "       0.79442416, 1.45923351, 1.07183759, 1.33844164, 1.30296106,\n",
       "       2.30728223, 2.68621161, 0.29801313, 0.46119159, 1.59792165,\n",
       "       1.96305951, 0.70676734, 0.6822593 , 0.88809572, 1.93134364])"
      ]
     },
     "execution_count": 14,
     "metadata": {},
     "output_type": "execute_result"
    }
   ],
   "source": [
    "predictions[:20]/y_test[:20]"
   ]
  }
 ],
 "metadata": {
  "kernelspec": {
   "display_name": "Python 3",
   "language": "python",
   "name": "python3"
  },
  "language_info": {
   "codemirror_mode": {
    "name": "ipython",
    "version": 3
   },
   "file_extension": ".py",
   "mimetype": "text/x-python",
   "name": "python",
   "nbconvert_exporter": "python",
   "pygments_lexer": "ipython3",
   "version": "3.6.12"
  }
 },
 "nbformat": 4,
 "nbformat_minor": 4
}
