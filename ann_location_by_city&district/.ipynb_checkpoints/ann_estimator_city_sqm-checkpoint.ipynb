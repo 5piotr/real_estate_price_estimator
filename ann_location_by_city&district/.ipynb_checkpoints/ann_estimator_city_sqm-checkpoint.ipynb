{
 "cells": [
  {
   "cell_type": "code",
   "execution_count": 1,
   "metadata": {},
   "outputs": [],
   "source": [
    "import pickle as pkl\n",
    "import pandas as pd\n",
    "import numpy as np\n",
    "import matplotlib.pyplot as plt\n",
    "import seaborn as sns\n",
    "import time"
   ]
  },
  {
   "cell_type": "code",
   "execution_count": 2,
   "metadata": {},
   "outputs": [],
   "source": [
    "infile = open('..//real_estate_data_frame','rb')\n",
    "frame = pkl.load(infile)\n",
    "infile.close()"
   ]
  },
  {
   "cell_type": "code",
   "execution_count": 3,
   "metadata": {},
   "outputs": [
    {
     "data": {
      "text/html": [
       "<div>\n",
       "<style scoped>\n",
       "    .dataframe tbody tr th:only-of-type {\n",
       "        vertical-align: middle;\n",
       "    }\n",
       "\n",
       "    .dataframe tbody tr th {\n",
       "        vertical-align: top;\n",
       "    }\n",
       "\n",
       "    .dataframe thead th {\n",
       "        text-align: right;\n",
       "    }\n",
       "</style>\n",
       "<table border=\"1\" class=\"dataframe\">\n",
       "  <thead>\n",
       "    <tr style=\"text-align: right;\">\n",
       "      <th></th>\n",
       "      <th>city</th>\n",
       "      <th>district</th>\n",
       "      <th>localization_y</th>\n",
       "      <th>localization_x</th>\n",
       "      <th>area</th>\n",
       "      <th>sewers</th>\n",
       "      <th>road</th>\n",
       "      <th>fence</th>\n",
       "      <th>water</th>\n",
       "      <th>electricity</th>\n",
       "      <th>gas</th>\n",
       "      <th>price</th>\n",
       "    </tr>\n",
       "  </thead>\n",
       "  <tbody>\n",
       "    <tr>\n",
       "      <th>0</th>\n",
       "      <td>Bełdów-Krzywa Wieś</td>\n",
       "      <td>zgierski</td>\n",
       "      <td>51.835925</td>\n",
       "      <td>19.193010</td>\n",
       "      <td>1004.0</td>\n",
       "      <td>brak</td>\n",
       "      <td>utwardzana</td>\n",
       "      <td>brak</td>\n",
       "      <td>wodociąg w drodze</td>\n",
       "      <td>w drodze</td>\n",
       "      <td>brak</td>\n",
       "      <td>90360.0</td>\n",
       "    </tr>\n",
       "    <tr>\n",
       "      <th>1</th>\n",
       "      <td>Stanisławów Nowy</td>\n",
       "      <td>pabianicki</td>\n",
       "      <td>51.801330</td>\n",
       "      <td>19.189772</td>\n",
       "      <td>1200.0</td>\n",
       "      <td>brak</td>\n",
       "      <td>utwardzana</td>\n",
       "      <td>brak</td>\n",
       "      <td>brak</td>\n",
       "      <td>brak</td>\n",
       "      <td>brak</td>\n",
       "      <td>84000.0</td>\n",
       "    </tr>\n",
       "    <tr>\n",
       "      <th>2</th>\n",
       "      <td>Julianowo</td>\n",
       "      <td>szczycieński</td>\n",
       "      <td>53.723500</td>\n",
       "      <td>20.867400</td>\n",
       "      <td>1262.0</td>\n",
       "      <td>brak</td>\n",
       "      <td>utwardzana</td>\n",
       "      <td>brak</td>\n",
       "      <td>własne ujęcie/studnia</td>\n",
       "      <td>brak</td>\n",
       "      <td>brak</td>\n",
       "      <td>88340.0</td>\n",
       "    </tr>\n",
       "    <tr>\n",
       "      <th>3</th>\n",
       "      <td>Nadarzyn</td>\n",
       "      <td>pruszkowski</td>\n",
       "      <td>52.094000</td>\n",
       "      <td>20.807400</td>\n",
       "      <td>950.0</td>\n",
       "      <td>brak</td>\n",
       "      <td>utwardzana</td>\n",
       "      <td>brak</td>\n",
       "      <td>brak</td>\n",
       "      <td>brak</td>\n",
       "      <td>brak</td>\n",
       "      <td>295000.0</td>\n",
       "    </tr>\n",
       "    <tr>\n",
       "      <th>4</th>\n",
       "      <td>Rusiec</td>\n",
       "      <td>pruszkowski</td>\n",
       "      <td>52.065800</td>\n",
       "      <td>20.803900</td>\n",
       "      <td>1160.0</td>\n",
       "      <td>brak</td>\n",
       "      <td>utwardzana</td>\n",
       "      <td>brak</td>\n",
       "      <td>brak</td>\n",
       "      <td>brak</td>\n",
       "      <td>brak</td>\n",
       "      <td>255200.0</td>\n",
       "    </tr>\n",
       "    <tr>\n",
       "      <th>...</th>\n",
       "      <td>...</td>\n",
       "      <td>...</td>\n",
       "      <td>...</td>\n",
       "      <td>...</td>\n",
       "      <td>...</td>\n",
       "      <td>...</td>\n",
       "      <td>...</td>\n",
       "      <td>...</td>\n",
       "      <td>...</td>\n",
       "      <td>...</td>\n",
       "      <td>...</td>\n",
       "      <td>...</td>\n",
       "    </tr>\n",
       "    <tr>\n",
       "      <th>7485</th>\n",
       "      <td>Cholerzyn</td>\n",
       "      <td>krakowski</td>\n",
       "      <td>50.058603</td>\n",
       "      <td>19.773954</td>\n",
       "      <td>1670.0</td>\n",
       "      <td>brak</td>\n",
       "      <td>polna</td>\n",
       "      <td>brak</td>\n",
       "      <td>brak</td>\n",
       "      <td>brak</td>\n",
       "      <td>brak</td>\n",
       "      <td>333000.0</td>\n",
       "    </tr>\n",
       "    <tr>\n",
       "      <th>7486</th>\n",
       "      <td>Mogilany</td>\n",
       "      <td>krakowski</td>\n",
       "      <td>49.939618</td>\n",
       "      <td>19.889479</td>\n",
       "      <td>2000.0</td>\n",
       "      <td>brak</td>\n",
       "      <td>polna</td>\n",
       "      <td>brak</td>\n",
       "      <td>brak</td>\n",
       "      <td>brak</td>\n",
       "      <td>brak</td>\n",
       "      <td>360000.0</td>\n",
       "    </tr>\n",
       "    <tr>\n",
       "      <th>7487</th>\n",
       "      <td>Nowa Wieś Szlachecka</td>\n",
       "      <td>krakowski</td>\n",
       "      <td>50.026720</td>\n",
       "      <td>19.700051</td>\n",
       "      <td>4400.0</td>\n",
       "      <td>szambo</td>\n",
       "      <td>polna</td>\n",
       "      <td>brak</td>\n",
       "      <td>brak</td>\n",
       "      <td>brak</td>\n",
       "      <td>brak</td>\n",
       "      <td>160000.0</td>\n",
       "    </tr>\n",
       "    <tr>\n",
       "      <th>7488</th>\n",
       "      <td>Czernichów</td>\n",
       "      <td>krakowski</td>\n",
       "      <td>49.987773</td>\n",
       "      <td>19.679529</td>\n",
       "      <td>4400.0</td>\n",
       "      <td>brak</td>\n",
       "      <td>polna</td>\n",
       "      <td>brak</td>\n",
       "      <td>brak</td>\n",
       "      <td>brak</td>\n",
       "      <td>brak</td>\n",
       "      <td>440000.0</td>\n",
       "    </tr>\n",
       "    <tr>\n",
       "      <th>7489</th>\n",
       "      <td>Czernichów</td>\n",
       "      <td>krakowski</td>\n",
       "      <td>49.987773</td>\n",
       "      <td>19.679529</td>\n",
       "      <td>2200.0</td>\n",
       "      <td>brak</td>\n",
       "      <td>polna</td>\n",
       "      <td>brak</td>\n",
       "      <td>brak</td>\n",
       "      <td>brak</td>\n",
       "      <td>brak</td>\n",
       "      <td>220000.0</td>\n",
       "    </tr>\n",
       "  </tbody>\n",
       "</table>\n",
       "<p>7490 rows × 12 columns</p>\n",
       "</div>"
      ],
      "text/plain": [
       "                      city      district  localization_y  localization_x  \\\n",
       "0       Bełdów-Krzywa Wieś      zgierski       51.835925       19.193010   \n",
       "1         Stanisławów Nowy    pabianicki       51.801330       19.189772   \n",
       "2                Julianowo  szczycieński       53.723500       20.867400   \n",
       "3                 Nadarzyn   pruszkowski       52.094000       20.807400   \n",
       "4                   Rusiec   pruszkowski       52.065800       20.803900   \n",
       "...                    ...           ...             ...             ...   \n",
       "7485             Cholerzyn     krakowski       50.058603       19.773954   \n",
       "7486              Mogilany     krakowski       49.939618       19.889479   \n",
       "7487  Nowa Wieś Szlachecka     krakowski       50.026720       19.700051   \n",
       "7488            Czernichów     krakowski       49.987773       19.679529   \n",
       "7489            Czernichów     krakowski       49.987773       19.679529   \n",
       "\n",
       "        area  sewers        road fence                  water electricity  \\\n",
       "0     1004.0    brak  utwardzana  brak      wodociąg w drodze    w drodze   \n",
       "1     1200.0    brak  utwardzana  brak                   brak        brak   \n",
       "2     1262.0    brak  utwardzana  brak  własne ujęcie/studnia        brak   \n",
       "3      950.0    brak  utwardzana  brak                   brak        brak   \n",
       "4     1160.0    brak  utwardzana  brak                   brak        brak   \n",
       "...      ...     ...         ...   ...                    ...         ...   \n",
       "7485  1670.0    brak       polna  brak                   brak        brak   \n",
       "7486  2000.0    brak       polna  brak                   brak        brak   \n",
       "7487  4400.0  szambo       polna  brak                   brak        brak   \n",
       "7488  4400.0    brak       polna  brak                   brak        brak   \n",
       "7489  2200.0    brak       polna  brak                   brak        brak   \n",
       "\n",
       "       gas     price  \n",
       "0     brak   90360.0  \n",
       "1     brak   84000.0  \n",
       "2     brak   88340.0  \n",
       "3     brak  295000.0  \n",
       "4     brak  255200.0  \n",
       "...    ...       ...  \n",
       "7485  brak  333000.0  \n",
       "7486  brak  360000.0  \n",
       "7487  brak  160000.0  \n",
       "7488  brak  440000.0  \n",
       "7489  brak  220000.0  \n",
       "\n",
       "[7490 rows x 12 columns]"
      ]
     },
     "execution_count": 3,
     "metadata": {},
     "output_type": "execute_result"
    }
   ],
   "source": [
    "frame"
   ]
  },
  {
   "cell_type": "code",
   "execution_count": 4,
   "metadata": {},
   "outputs": [
    {
     "name": "stdout",
     "output_type": "stream",
     "text": [
      "<class 'pandas.core.frame.DataFrame'>\n",
      "RangeIndex: 7490 entries, 0 to 7489\n",
      "Data columns (total 12 columns):\n",
      " #   Column          Non-Null Count  Dtype  \n",
      "---  ------          --------------  -----  \n",
      " 0   city            7490 non-null   object \n",
      " 1   district        7490 non-null   object \n",
      " 2   localization_y  7490 non-null   float64\n",
      " 3   localization_x  7490 non-null   float64\n",
      " 4   area            7490 non-null   float64\n",
      " 5   sewers          7490 non-null   object \n",
      " 6   road            7490 non-null   object \n",
      " 7   fence           7490 non-null   object \n",
      " 8   water           7490 non-null   object \n",
      " 9   electricity     7490 non-null   object \n",
      " 10  gas             7490 non-null   object \n",
      " 11  price           7490 non-null   float64\n",
      "dtypes: float64(4), object(8)\n",
      "memory usage: 702.3+ KB\n"
     ]
    }
   ],
   "source": [
    "frame.info()"
   ]
  },
  {
   "cell_type": "code",
   "execution_count": 5,
   "metadata": {},
   "outputs": [],
   "source": [
    "frame = frame.drop(['district','localization_y','localization_x'],axis=1)"
   ]
  },
  {
   "cell_type": "code",
   "execution_count": 6,
   "metadata": {},
   "outputs": [],
   "source": [
    "frame['price_of_sqm'] = frame['price']/frame['area']"
   ]
  },
  {
   "cell_type": "code",
   "execution_count": 7,
   "metadata": {},
   "outputs": [],
   "source": [
    "frame = frame.drop(['price','area'],axis=1)"
   ]
  },
  {
   "cell_type": "code",
   "execution_count": 8,
   "metadata": {},
   "outputs": [
    {
     "name": "stdout",
     "output_type": "stream",
     "text": [
      "<class 'pandas.core.frame.DataFrame'>\n",
      "RangeIndex: 7490 entries, 0 to 7489\n",
      "Data columns (total 8 columns):\n",
      " #   Column        Non-Null Count  Dtype  \n",
      "---  ------        --------------  -----  \n",
      " 0   city          7490 non-null   object \n",
      " 1   sewers        7490 non-null   object \n",
      " 2   road          7490 non-null   object \n",
      " 3   fence         7490 non-null   object \n",
      " 4   water         7490 non-null   object \n",
      " 5   electricity   7490 non-null   object \n",
      " 6   gas           7490 non-null   object \n",
      " 7   price_of_sqm  7490 non-null   float64\n",
      "dtypes: float64(1), object(7)\n",
      "memory usage: 468.2+ KB\n"
     ]
    }
   ],
   "source": [
    "frame.info()"
   ]
  },
  {
   "cell_type": "markdown",
   "metadata": {},
   "source": [
    "## creating dummy variables"
   ]
  },
  {
   "cell_type": "code",
   "execution_count": 9,
   "metadata": {},
   "outputs": [],
   "source": [
    "dummies = pd.get_dummies(frame[['city','sewers','road','fence','water','electricity','gas']],drop_first=True)\n",
    "frame = frame.drop(['city','sewers','road','fence','water','electricity','gas'],axis=1)\n",
    "frame = pd.concat([frame,dummies],axis=1)"
   ]
  },
  {
   "cell_type": "code",
   "execution_count": 10,
   "metadata": {},
   "outputs": [
    {
     "name": "stdout",
     "output_type": "stream",
     "text": [
      "<class 'pandas.core.frame.DataFrame'>\n",
      "RangeIndex: 7490 entries, 0 to 7489\n",
      "Columns: 2697 entries, price_of_sqm to gas_w drodze\n",
      "dtypes: float64(1), uint8(2696)\n",
      "memory usage: 19.3 MB\n"
     ]
    }
   ],
   "source": [
    "frame.info()"
   ]
  },
  {
   "cell_type": "code",
   "execution_count": 11,
   "metadata": {},
   "outputs": [
    {
     "data": {
      "text/html": [
       "<div>\n",
       "<style scoped>\n",
       "    .dataframe tbody tr th:only-of-type {\n",
       "        vertical-align: middle;\n",
       "    }\n",
       "\n",
       "    .dataframe tbody tr th {\n",
       "        vertical-align: top;\n",
       "    }\n",
       "\n",
       "    .dataframe thead th {\n",
       "        text-align: right;\n",
       "    }\n",
       "</style>\n",
       "<table border=\"1\" class=\"dataframe\">\n",
       "  <thead>\n",
       "    <tr style=\"text-align: right;\">\n",
       "      <th></th>\n",
       "      <th>price_of_sqm</th>\n",
       "      <th>city_Adamowa Góra</th>\n",
       "      <th>city_Adamowizna</th>\n",
       "      <th>city_Adamów-Parcel</th>\n",
       "      <th>city_Adamów-Wieś</th>\n",
       "      <th>city_Adamówek</th>\n",
       "      <th>city_Aleksandria</th>\n",
       "      <th>city_Aleksandrów Kujawski</th>\n",
       "      <th>city_Aleksandrów Łódzki</th>\n",
       "      <th>city_Alwernia</th>\n",
       "      <th>...</th>\n",
       "      <th>fence_metalowe</th>\n",
       "      <th>fence_mieszane</th>\n",
       "      <th>fence_siatka</th>\n",
       "      <th>water_wodociąg na działce</th>\n",
       "      <th>water_wodociąg w drodze</th>\n",
       "      <th>water_własne ujęcie/studnia</th>\n",
       "      <th>electricity_na działce</th>\n",
       "      <th>electricity_w drodze</th>\n",
       "      <th>gas_na działce</th>\n",
       "      <th>gas_w drodze</th>\n",
       "    </tr>\n",
       "  </thead>\n",
       "  <tbody>\n",
       "    <tr>\n",
       "      <th>0</th>\n",
       "      <td>90.000000</td>\n",
       "      <td>0</td>\n",
       "      <td>0</td>\n",
       "      <td>0</td>\n",
       "      <td>0</td>\n",
       "      <td>0</td>\n",
       "      <td>0</td>\n",
       "      <td>0</td>\n",
       "      <td>0</td>\n",
       "      <td>0</td>\n",
       "      <td>...</td>\n",
       "      <td>0</td>\n",
       "      <td>0</td>\n",
       "      <td>0</td>\n",
       "      <td>0</td>\n",
       "      <td>1</td>\n",
       "      <td>0</td>\n",
       "      <td>0</td>\n",
       "      <td>1</td>\n",
       "      <td>0</td>\n",
       "      <td>0</td>\n",
       "    </tr>\n",
       "    <tr>\n",
       "      <th>1</th>\n",
       "      <td>70.000000</td>\n",
       "      <td>0</td>\n",
       "      <td>0</td>\n",
       "      <td>0</td>\n",
       "      <td>0</td>\n",
       "      <td>0</td>\n",
       "      <td>0</td>\n",
       "      <td>0</td>\n",
       "      <td>0</td>\n",
       "      <td>0</td>\n",
       "      <td>...</td>\n",
       "      <td>0</td>\n",
       "      <td>0</td>\n",
       "      <td>0</td>\n",
       "      <td>0</td>\n",
       "      <td>0</td>\n",
       "      <td>0</td>\n",
       "      <td>0</td>\n",
       "      <td>0</td>\n",
       "      <td>0</td>\n",
       "      <td>0</td>\n",
       "    </tr>\n",
       "    <tr>\n",
       "      <th>2</th>\n",
       "      <td>70.000000</td>\n",
       "      <td>0</td>\n",
       "      <td>0</td>\n",
       "      <td>0</td>\n",
       "      <td>0</td>\n",
       "      <td>0</td>\n",
       "      <td>0</td>\n",
       "      <td>0</td>\n",
       "      <td>0</td>\n",
       "      <td>0</td>\n",
       "      <td>...</td>\n",
       "      <td>0</td>\n",
       "      <td>0</td>\n",
       "      <td>0</td>\n",
       "      <td>0</td>\n",
       "      <td>0</td>\n",
       "      <td>1</td>\n",
       "      <td>0</td>\n",
       "      <td>0</td>\n",
       "      <td>0</td>\n",
       "      <td>0</td>\n",
       "    </tr>\n",
       "    <tr>\n",
       "      <th>3</th>\n",
       "      <td>310.526316</td>\n",
       "      <td>0</td>\n",
       "      <td>0</td>\n",
       "      <td>0</td>\n",
       "      <td>0</td>\n",
       "      <td>0</td>\n",
       "      <td>0</td>\n",
       "      <td>0</td>\n",
       "      <td>0</td>\n",
       "      <td>0</td>\n",
       "      <td>...</td>\n",
       "      <td>0</td>\n",
       "      <td>0</td>\n",
       "      <td>0</td>\n",
       "      <td>0</td>\n",
       "      <td>0</td>\n",
       "      <td>0</td>\n",
       "      <td>0</td>\n",
       "      <td>0</td>\n",
       "      <td>0</td>\n",
       "      <td>0</td>\n",
       "    </tr>\n",
       "    <tr>\n",
       "      <th>4</th>\n",
       "      <td>220.000000</td>\n",
       "      <td>0</td>\n",
       "      <td>0</td>\n",
       "      <td>0</td>\n",
       "      <td>0</td>\n",
       "      <td>0</td>\n",
       "      <td>0</td>\n",
       "      <td>0</td>\n",
       "      <td>0</td>\n",
       "      <td>0</td>\n",
       "      <td>...</td>\n",
       "      <td>0</td>\n",
       "      <td>0</td>\n",
       "      <td>0</td>\n",
       "      <td>0</td>\n",
       "      <td>0</td>\n",
       "      <td>0</td>\n",
       "      <td>0</td>\n",
       "      <td>0</td>\n",
       "      <td>0</td>\n",
       "      <td>0</td>\n",
       "    </tr>\n",
       "    <tr>\n",
       "      <th>...</th>\n",
       "      <td>...</td>\n",
       "      <td>...</td>\n",
       "      <td>...</td>\n",
       "      <td>...</td>\n",
       "      <td>...</td>\n",
       "      <td>...</td>\n",
       "      <td>...</td>\n",
       "      <td>...</td>\n",
       "      <td>...</td>\n",
       "      <td>...</td>\n",
       "      <td>...</td>\n",
       "      <td>...</td>\n",
       "      <td>...</td>\n",
       "      <td>...</td>\n",
       "      <td>...</td>\n",
       "      <td>...</td>\n",
       "      <td>...</td>\n",
       "      <td>...</td>\n",
       "      <td>...</td>\n",
       "      <td>...</td>\n",
       "      <td>...</td>\n",
       "    </tr>\n",
       "    <tr>\n",
       "      <th>7485</th>\n",
       "      <td>199.401198</td>\n",
       "      <td>0</td>\n",
       "      <td>0</td>\n",
       "      <td>0</td>\n",
       "      <td>0</td>\n",
       "      <td>0</td>\n",
       "      <td>0</td>\n",
       "      <td>0</td>\n",
       "      <td>0</td>\n",
       "      <td>0</td>\n",
       "      <td>...</td>\n",
       "      <td>0</td>\n",
       "      <td>0</td>\n",
       "      <td>0</td>\n",
       "      <td>0</td>\n",
       "      <td>0</td>\n",
       "      <td>0</td>\n",
       "      <td>0</td>\n",
       "      <td>0</td>\n",
       "      <td>0</td>\n",
       "      <td>0</td>\n",
       "    </tr>\n",
       "    <tr>\n",
       "      <th>7486</th>\n",
       "      <td>180.000000</td>\n",
       "      <td>0</td>\n",
       "      <td>0</td>\n",
       "      <td>0</td>\n",
       "      <td>0</td>\n",
       "      <td>0</td>\n",
       "      <td>0</td>\n",
       "      <td>0</td>\n",
       "      <td>0</td>\n",
       "      <td>0</td>\n",
       "      <td>...</td>\n",
       "      <td>0</td>\n",
       "      <td>0</td>\n",
       "      <td>0</td>\n",
       "      <td>0</td>\n",
       "      <td>0</td>\n",
       "      <td>0</td>\n",
       "      <td>0</td>\n",
       "      <td>0</td>\n",
       "      <td>0</td>\n",
       "      <td>0</td>\n",
       "    </tr>\n",
       "    <tr>\n",
       "      <th>7487</th>\n",
       "      <td>36.363636</td>\n",
       "      <td>0</td>\n",
       "      <td>0</td>\n",
       "      <td>0</td>\n",
       "      <td>0</td>\n",
       "      <td>0</td>\n",
       "      <td>0</td>\n",
       "      <td>0</td>\n",
       "      <td>0</td>\n",
       "      <td>0</td>\n",
       "      <td>...</td>\n",
       "      <td>0</td>\n",
       "      <td>0</td>\n",
       "      <td>0</td>\n",
       "      <td>0</td>\n",
       "      <td>0</td>\n",
       "      <td>0</td>\n",
       "      <td>0</td>\n",
       "      <td>0</td>\n",
       "      <td>0</td>\n",
       "      <td>0</td>\n",
       "    </tr>\n",
       "    <tr>\n",
       "      <th>7488</th>\n",
       "      <td>100.000000</td>\n",
       "      <td>0</td>\n",
       "      <td>0</td>\n",
       "      <td>0</td>\n",
       "      <td>0</td>\n",
       "      <td>0</td>\n",
       "      <td>0</td>\n",
       "      <td>0</td>\n",
       "      <td>0</td>\n",
       "      <td>0</td>\n",
       "      <td>...</td>\n",
       "      <td>0</td>\n",
       "      <td>0</td>\n",
       "      <td>0</td>\n",
       "      <td>0</td>\n",
       "      <td>0</td>\n",
       "      <td>0</td>\n",
       "      <td>0</td>\n",
       "      <td>0</td>\n",
       "      <td>0</td>\n",
       "      <td>0</td>\n",
       "    </tr>\n",
       "    <tr>\n",
       "      <th>7489</th>\n",
       "      <td>100.000000</td>\n",
       "      <td>0</td>\n",
       "      <td>0</td>\n",
       "      <td>0</td>\n",
       "      <td>0</td>\n",
       "      <td>0</td>\n",
       "      <td>0</td>\n",
       "      <td>0</td>\n",
       "      <td>0</td>\n",
       "      <td>0</td>\n",
       "      <td>...</td>\n",
       "      <td>0</td>\n",
       "      <td>0</td>\n",
       "      <td>0</td>\n",
       "      <td>0</td>\n",
       "      <td>0</td>\n",
       "      <td>0</td>\n",
       "      <td>0</td>\n",
       "      <td>0</td>\n",
       "      <td>0</td>\n",
       "      <td>0</td>\n",
       "    </tr>\n",
       "  </tbody>\n",
       "</table>\n",
       "<p>7490 rows × 2697 columns</p>\n",
       "</div>"
      ],
      "text/plain": [
       "      price_of_sqm  city_Adamowa Góra  city_Adamowizna  city_Adamów-Parcel  \\\n",
       "0        90.000000                  0                0                   0   \n",
       "1        70.000000                  0                0                   0   \n",
       "2        70.000000                  0                0                   0   \n",
       "3       310.526316                  0                0                   0   \n",
       "4       220.000000                  0                0                   0   \n",
       "...            ...                ...              ...                 ...   \n",
       "7485    199.401198                  0                0                   0   \n",
       "7486    180.000000                  0                0                   0   \n",
       "7487     36.363636                  0                0                   0   \n",
       "7488    100.000000                  0                0                   0   \n",
       "7489    100.000000                  0                0                   0   \n",
       "\n",
       "      city_Adamów-Wieś  city_Adamówek  city_Aleksandria  \\\n",
       "0                    0              0                 0   \n",
       "1                    0              0                 0   \n",
       "2                    0              0                 0   \n",
       "3                    0              0                 0   \n",
       "4                    0              0                 0   \n",
       "...                ...            ...               ...   \n",
       "7485                 0              0                 0   \n",
       "7486                 0              0                 0   \n",
       "7487                 0              0                 0   \n",
       "7488                 0              0                 0   \n",
       "7489                 0              0                 0   \n",
       "\n",
       "      city_Aleksandrów Kujawski  city_Aleksandrów Łódzki  city_Alwernia  ...  \\\n",
       "0                             0                        0              0  ...   \n",
       "1                             0                        0              0  ...   \n",
       "2                             0                        0              0  ...   \n",
       "3                             0                        0              0  ...   \n",
       "4                             0                        0              0  ...   \n",
       "...                         ...                      ...            ...  ...   \n",
       "7485                          0                        0              0  ...   \n",
       "7486                          0                        0              0  ...   \n",
       "7487                          0                        0              0  ...   \n",
       "7488                          0                        0              0  ...   \n",
       "7489                          0                        0              0  ...   \n",
       "\n",
       "      fence_metalowe  fence_mieszane  fence_siatka  water_wodociąg na działce  \\\n",
       "0                  0               0             0                          0   \n",
       "1                  0               0             0                          0   \n",
       "2                  0               0             0                          0   \n",
       "3                  0               0             0                          0   \n",
       "4                  0               0             0                          0   \n",
       "...              ...             ...           ...                        ...   \n",
       "7485               0               0             0                          0   \n",
       "7486               0               0             0                          0   \n",
       "7487               0               0             0                          0   \n",
       "7488               0               0             0                          0   \n",
       "7489               0               0             0                          0   \n",
       "\n",
       "      water_wodociąg w drodze  water_własne ujęcie/studnia  \\\n",
       "0                           1                            0   \n",
       "1                           0                            0   \n",
       "2                           0                            1   \n",
       "3                           0                            0   \n",
       "4                           0                            0   \n",
       "...                       ...                          ...   \n",
       "7485                        0                            0   \n",
       "7486                        0                            0   \n",
       "7487                        0                            0   \n",
       "7488                        0                            0   \n",
       "7489                        0                            0   \n",
       "\n",
       "      electricity_na działce  electricity_w drodze  gas_na działce  \\\n",
       "0                          0                     1               0   \n",
       "1                          0                     0               0   \n",
       "2                          0                     0               0   \n",
       "3                          0                     0               0   \n",
       "4                          0                     0               0   \n",
       "...                      ...                   ...             ...   \n",
       "7485                       0                     0               0   \n",
       "7486                       0                     0               0   \n",
       "7487                       0                     0               0   \n",
       "7488                       0                     0               0   \n",
       "7489                       0                     0               0   \n",
       "\n",
       "      gas_w drodze  \n",
       "0                0  \n",
       "1                0  \n",
       "2                0  \n",
       "3                0  \n",
       "4                0  \n",
       "...            ...  \n",
       "7485             0  \n",
       "7486             0  \n",
       "7487             0  \n",
       "7488             0  \n",
       "7489             0  \n",
       "\n",
       "[7490 rows x 2697 columns]"
      ]
     },
     "execution_count": 11,
     "metadata": {},
     "output_type": "execute_result"
    }
   ],
   "source": [
    "frame"
   ]
  },
  {
   "cell_type": "markdown",
   "metadata": {},
   "source": [
    "## train test split"
   ]
  },
  {
   "cell_type": "code",
   "execution_count": 12,
   "metadata": {},
   "outputs": [],
   "source": [
    "X = frame.drop('price_of_sqm',axis=1).values\n",
    "y = frame['price_of_sqm'].values"
   ]
  },
  {
   "cell_type": "code",
   "execution_count": 13,
   "metadata": {},
   "outputs": [],
   "source": [
    "from sklearn.model_selection import train_test_split"
   ]
  },
  {
   "cell_type": "code",
   "execution_count": 14,
   "metadata": {},
   "outputs": [],
   "source": [
    "X_train, X_test, y_train, y_test = train_test_split(X, y, test_size=0.25)"
   ]
  },
  {
   "cell_type": "markdown",
   "metadata": {},
   "source": [
    "## scaling"
   ]
  },
  {
   "cell_type": "code",
   "execution_count": 15,
   "metadata": {},
   "outputs": [],
   "source": [
    "from sklearn.preprocessing import MinMaxScaler"
   ]
  },
  {
   "cell_type": "code",
   "execution_count": 16,
   "metadata": {},
   "outputs": [],
   "source": [
    "scaler = MinMaxScaler()"
   ]
  },
  {
   "cell_type": "code",
   "execution_count": 17,
   "metadata": {},
   "outputs": [],
   "source": [
    "X_train= scaler.fit_transform(X_train)"
   ]
  },
  {
   "cell_type": "code",
   "execution_count": 18,
   "metadata": {},
   "outputs": [],
   "source": [
    "X_test = scaler.transform(X_test)"
   ]
  },
  {
   "cell_type": "code",
   "execution_count": 19,
   "metadata": {},
   "outputs": [
    {
     "data": {
      "text/plain": [
       "(5617, 2696)"
      ]
     },
     "execution_count": 19,
     "metadata": {},
     "output_type": "execute_result"
    }
   ],
   "source": [
    "X_train.shape"
   ]
  },
  {
   "cell_type": "code",
   "execution_count": 20,
   "metadata": {},
   "outputs": [
    {
     "data": {
      "text/plain": [
       "(1873, 2696)"
      ]
     },
     "execution_count": 20,
     "metadata": {},
     "output_type": "execute_result"
    }
   ],
   "source": [
    "X_test.shape"
   ]
  },
  {
   "cell_type": "markdown",
   "metadata": {},
   "source": [
    "## creating model"
   ]
  },
  {
   "cell_type": "code",
   "execution_count": 21,
   "metadata": {},
   "outputs": [],
   "source": [
    "from tensorflow.keras.models import Sequential\n",
    "from tensorflow.keras.layers import Dense, Activation ,Dropout\n",
    "from tensorflow.keras.optimizers import Adam"
   ]
  },
  {
   "cell_type": "code",
   "execution_count": 22,
   "metadata": {},
   "outputs": [],
   "source": [
    "model = Sequential()\n",
    "\n",
    "model.add(Dense(512,activation='relu',input_dim=X_test.shape[1]))\n",
    "model.add(Dense(256,activation='relu'))\n",
    "model.add(Dense(128,activation='relu'))\n",
    "model.add(Dense(64,activation='relu'))\n",
    "\n",
    "model.add(Dense(1))\n",
    "\n",
    "model.compile(optimizer='adam',loss='mean_squared_error')"
   ]
  },
  {
   "cell_type": "code",
   "execution_count": 23,
   "metadata": {},
   "outputs": [
    {
     "name": "stdout",
     "output_type": "stream",
     "text": [
      "Model: \"sequential\"\n",
      "_________________________________________________________________\n",
      "Layer (type)                 Output Shape              Param #   \n",
      "=================================================================\n",
      "dense (Dense)                (None, 512)               1380864   \n",
      "_________________________________________________________________\n",
      "dense_1 (Dense)              (None, 256)               131328    \n",
      "_________________________________________________________________\n",
      "dense_2 (Dense)              (None, 128)               32896     \n",
      "_________________________________________________________________\n",
      "dense_3 (Dense)              (None, 64)                8256      \n",
      "_________________________________________________________________\n",
      "dense_4 (Dense)              (None, 1)                 65        \n",
      "=================================================================\n",
      "Total params: 1,553,409\n",
      "Trainable params: 1,553,409\n",
      "Non-trainable params: 0\n",
      "_________________________________________________________________\n"
     ]
    }
   ],
   "source": [
    "model.summary()"
   ]
  },
  {
   "cell_type": "code",
   "execution_count": 24,
   "metadata": {},
   "outputs": [],
   "source": [
    "# from tensorflow.keras.callbacks import EarlyStopping"
   ]
  },
  {
   "cell_type": "code",
   "execution_count": 25,
   "metadata": {},
   "outputs": [],
   "source": [
    "# early_stop = EarlyStopping(monitor='val_loss',patience=2)"
   ]
  },
  {
   "cell_type": "code",
   "execution_count": 26,
   "metadata": {
    "scrolled": true
   },
   "outputs": [
    {
     "name": "stdout",
     "output_type": "stream",
     "text": [
      "Train on 5617 samples, validate on 1873 samples\n",
      "Epoch 1/150\n",
      "5617/5617 [==============================] - 1s 182us/sample - loss: 106273.3169 - val_loss: 102512.3168\n",
      "Epoch 2/150\n",
      "5617/5617 [==============================] - 0s 81us/sample - loss: 73066.2289 - val_loss: 64624.9984\n",
      "Epoch 3/150\n",
      "5617/5617 [==============================] - 0s 88us/sample - loss: 50591.5296 - val_loss: 52140.8778\n",
      "Epoch 4/150\n",
      "5617/5617 [==============================] - 1s 96us/sample - loss: 35173.6788 - val_loss: 41034.3374\n",
      "Epoch 5/150\n",
      "5617/5617 [==============================] - 1s 108us/sample - loss: 27233.9711 - val_loss: 38316.1283\n",
      "Epoch 6/150\n",
      "5617/5617 [==============================] - 1s 111us/sample - loss: 24991.1929 - val_loss: 37340.1672\n",
      "Epoch 7/150\n",
      "5617/5617 [==============================] - 1s 112us/sample - loss: 24024.3693 - val_loss: 37458.6764\n",
      "Epoch 8/150\n",
      "5617/5617 [==============================] - 1s 116us/sample - loss: 23202.8168 - val_loss: 37347.9431\n",
      "Epoch 9/150\n",
      "5617/5617 [==============================] - 1s 118us/sample - loss: 23015.8049 - val_loss: 36583.4489\n",
      "Epoch 10/150\n",
      "5617/5617 [==============================] - 1s 109us/sample - loss: 22562.2156 - val_loss: 36238.2626\n",
      "Epoch 11/150\n",
      "5617/5617 [==============================] - 1s 113us/sample - loss: 22426.0495 - val_loss: 36195.0651\n",
      "Epoch 12/150\n",
      "5617/5617 [==============================] - 1s 113us/sample - loss: 21894.5314 - val_loss: 36422.7461\n",
      "Epoch 13/150\n",
      "5617/5617 [==============================] - 1s 127us/sample - loss: 21957.5310 - val_loss: 37378.3168\n",
      "Epoch 14/150\n",
      "5617/5617 [==============================] - 1s 126us/sample - loss: 21728.9427 - val_loss: 36121.4226\n",
      "Epoch 15/150\n",
      "5617/5617 [==============================] - 1s 112us/sample - loss: 21759.6137 - val_loss: 36198.6721\n",
      "Epoch 16/150\n",
      "5617/5617 [==============================] - 1s 101us/sample - loss: 21554.0863 - val_loss: 37058.8808\n",
      "Epoch 17/150\n",
      "5617/5617 [==============================] - 1s 101us/sample - loss: 21237.7634 - val_loss: 36590.5923\n",
      "Epoch 18/150\n",
      "5617/5617 [==============================] - 1s 106us/sample - loss: 21187.1372 - val_loss: 36900.4975\n",
      "Epoch 19/150\n",
      "5617/5617 [==============================] - 1s 100us/sample - loss: 21109.8863 - val_loss: 36210.7862\n",
      "Epoch 20/150\n",
      "5617/5617 [==============================] - 1s 105us/sample - loss: 21025.6099 - val_loss: 36288.6175\n",
      "Epoch 21/150\n",
      "5617/5617 [==============================] - 1s 96us/sample - loss: 20878.0742 - val_loss: 36224.8549\n",
      "Epoch 22/150\n",
      "5617/5617 [==============================] - 1s 97us/sample - loss: 20773.9374 - val_loss: 36335.6331\n",
      "Epoch 23/150\n",
      "5617/5617 [==============================] - 1s 106us/sample - loss: 20671.1914 - val_loss: 36336.8210\n",
      "Epoch 24/150\n",
      "5617/5617 [==============================] - 1s 94us/sample - loss: 20513.0701 - val_loss: 36334.6286\n",
      "Epoch 25/150\n",
      "5617/5617 [==============================] - 1s 111us/sample - loss: 20502.5442 - val_loss: 36626.4940\n",
      "Epoch 26/150\n",
      "5617/5617 [==============================] - 1s 101us/sample - loss: 20326.2987 - val_loss: 36354.2608\n",
      "Epoch 27/150\n",
      "5617/5617 [==============================] - 1s 118us/sample - loss: 20295.2948 - val_loss: 36718.6977\n",
      "Epoch 28/150\n",
      "5617/5617 [==============================] - 1s 103us/sample - loss: 20368.3031 - val_loss: 36551.9713\n",
      "Epoch 29/150\n",
      "5617/5617 [==============================] - 1s 97us/sample - loss: 20376.9051 - val_loss: 36431.6570\n",
      "Epoch 30/150\n",
      "5617/5617 [==============================] - 1s 98us/sample - loss: 20629.6148 - val_loss: 36428.9174\n",
      "Epoch 31/150\n",
      "5617/5617 [==============================] - 1s 96us/sample - loss: 20217.7477 - val_loss: 36416.8669\n",
      "Epoch 32/150\n",
      "5617/5617 [==============================] - 1s 101us/sample - loss: 20036.2608 - val_loss: 36493.1908\n",
      "Epoch 33/150\n",
      "5617/5617 [==============================] - 1s 107us/sample - loss: 19883.3979 - val_loss: 36840.0086\n",
      "Epoch 34/150\n",
      "5617/5617 [==============================] - 1s 115us/sample - loss: 19696.4804 - val_loss: 36630.1032\n",
      "Epoch 35/150\n",
      "5617/5617 [==============================] - 1s 110us/sample - loss: 19760.2319 - val_loss: 36508.0365\n",
      "Epoch 36/150\n",
      "5617/5617 [==============================] - 1s 115us/sample - loss: 19989.9387 - val_loss: 36559.2910\n",
      "Epoch 37/150\n",
      "5617/5617 [==============================] - 1s 127us/sample - loss: 19675.4526 - val_loss: 36940.0869\n",
      "Epoch 38/150\n",
      "5617/5617 [==============================] - 1s 116us/sample - loss: 19571.6697 - val_loss: 37323.0918\n",
      "Epoch 39/150\n",
      "5617/5617 [==============================] - 1s 125us/sample - loss: 19334.4060 - val_loss: 37673.5061\n",
      "Epoch 40/150\n",
      "5617/5617 [==============================] - 1s 130us/sample - loss: 19639.7782 - val_loss: 39276.6327\n",
      "Epoch 41/150\n",
      "5617/5617 [==============================] - 1s 125us/sample - loss: 19585.7734 - val_loss: 37786.6748\n",
      "Epoch 42/150\n",
      "5617/5617 [==============================] - 1s 116us/sample - loss: 19227.1172 - val_loss: 37326.7808\n",
      "Epoch 43/150\n",
      "5617/5617 [==============================] - 1s 120us/sample - loss: 19040.8789 - val_loss: 37835.6902\n",
      "Epoch 44/150\n",
      "5617/5617 [==============================] - 1s 120us/sample - loss: 19110.4719 - val_loss: 37586.0066\n",
      "Epoch 45/150\n",
      "5617/5617 [==============================] - 1s 118us/sample - loss: 19104.4234 - val_loss: 37116.2057\n",
      "Epoch 46/150\n",
      "5617/5617 [==============================] - 1s 116us/sample - loss: 19147.1728 - val_loss: 37783.2595\n",
      "Epoch 47/150\n",
      "5617/5617 [==============================] - 1s 116us/sample - loss: 18858.0559 - val_loss: 37549.7925\n",
      "Epoch 48/150\n",
      "5617/5617 [==============================] - 1s 107us/sample - loss: 18788.6540 - val_loss: 37548.8490\n",
      "Epoch 49/150\n",
      "5617/5617 [==============================] - 1s 114us/sample - loss: 18705.6229 - val_loss: 38581.5194\n",
      "Epoch 50/150\n",
      "5617/5617 [==============================] - 1s 106us/sample - loss: 18720.3135 - val_loss: 38080.2691\n",
      "Epoch 51/150\n",
      "5617/5617 [==============================] - 1s 113us/sample - loss: 18731.9006 - val_loss: 37460.2277\n",
      "Epoch 52/150\n",
      "5617/5617 [==============================] - 1s 102us/sample - loss: 18591.3975 - val_loss: 38122.2054\n",
      "Epoch 53/150\n",
      "5617/5617 [==============================] - 1s 105us/sample - loss: 18677.1918 - val_loss: 39917.5487\n",
      "Epoch 54/150\n",
      "5617/5617 [==============================] - 1s 105us/sample - loss: 19022.5495 - val_loss: 37900.6703\n",
      "Epoch 55/150\n",
      "5617/5617 [==============================] - 1s 105us/sample - loss: 18735.4495 - val_loss: 38475.8359\n",
      "Epoch 56/150\n",
      "5617/5617 [==============================] - 1s 98us/sample - loss: 18413.6670 - val_loss: 38262.1168\n",
      "Epoch 57/150\n",
      "5617/5617 [==============================] - 1s 105us/sample - loss: 18484.3346 - val_loss: 38021.3674\n",
      "Epoch 58/150\n",
      "5617/5617 [==============================] - 1s 108us/sample - loss: 18504.2264 - val_loss: 37821.3573\n",
      "Epoch 59/150\n",
      "5617/5617 [==============================] - 1s 113us/sample - loss: 18690.0921 - val_loss: 37966.1854\n",
      "Epoch 60/150\n",
      "5617/5617 [==============================] - 1s 96us/sample - loss: 18621.4585 - val_loss: 37780.3106\n",
      "Epoch 61/150\n",
      "5617/5617 [==============================] - 1s 96us/sample - loss: 18581.6535 - val_loss: 37930.1819\n",
      "Epoch 62/150\n",
      "5617/5617 [==============================] - 1s 95us/sample - loss: 18355.0171 - val_loss: 38796.6289\n",
      "Epoch 63/150\n",
      "5617/5617 [==============================] - 1s 90us/sample - loss: 18443.1630 - val_loss: 38144.0953\n",
      "Epoch 64/150\n",
      "5617/5617 [==============================] - 0s 89us/sample - loss: 18436.6671 - val_loss: 40224.1195\n",
      "Epoch 65/150\n",
      "5617/5617 [==============================] - 1s 93us/sample - loss: 18027.0845 - val_loss: 40727.2341\n",
      "Epoch 66/150\n",
      "5617/5617 [==============================] - 1s 92us/sample - loss: 18095.1643 - val_loss: 39285.9408\n",
      "Epoch 67/150\n",
      "5617/5617 [==============================] - 1s 90us/sample - loss: 17955.7045 - val_loss: 39000.8363\n",
      "Epoch 68/150\n",
      "5617/5617 [==============================] - 1s 89us/sample - loss: 17943.1103 - val_loss: 38810.6994\n",
      "Epoch 69/150\n",
      "5617/5617 [==============================] - 1s 92us/sample - loss: 17868.4926 - val_loss: 39620.8322\n",
      "Epoch 70/150\n",
      "5617/5617 [==============================] - 1s 93us/sample - loss: 17822.6292 - val_loss: 38709.1827\n",
      "Epoch 71/150\n"
     ]
    },
    {
     "name": "stdout",
     "output_type": "stream",
     "text": [
      "5617/5617 [==============================] - 1s 93us/sample - loss: 17762.4357 - val_loss: 39266.3609\n",
      "Epoch 72/150\n",
      "5617/5617 [==============================] - 1s 95us/sample - loss: 17911.3518 - val_loss: 39143.5977\n",
      "Epoch 73/150\n",
      "5617/5617 [==============================] - 1s 95us/sample - loss: 17899.0523 - val_loss: 40016.9508\n",
      "Epoch 74/150\n",
      "5617/5617 [==============================] - 1s 95us/sample - loss: 17820.9856 - val_loss: 39035.2329\n",
      "Epoch 75/150\n",
      "5617/5617 [==============================] - 1s 94us/sample - loss: 17822.4532 - val_loss: 40019.8558\n",
      "Epoch 76/150\n",
      "5617/5617 [==============================] - 1s 94us/sample - loss: 17665.0468 - val_loss: 39014.4204\n",
      "Epoch 77/150\n",
      "5617/5617 [==============================] - 1s 95us/sample - loss: 17963.0802 - val_loss: 39171.2951\n",
      "Epoch 78/150\n",
      "5617/5617 [==============================] - 1s 98us/sample - loss: 17712.2174 - val_loss: 40303.9426\n",
      "Epoch 79/150\n",
      "5617/5617 [==============================] - 1s 98us/sample - loss: 17593.5565 - val_loss: 39638.3625\n",
      "Epoch 80/150\n",
      "5617/5617 [==============================] - 1s 105us/sample - loss: 17674.6312 - val_loss: 39156.6656\n",
      "Epoch 81/150\n",
      "5617/5617 [==============================] - 1s 100us/sample - loss: 17779.0163 - val_loss: 39455.2068\n",
      "Epoch 82/150\n",
      "5617/5617 [==============================] - 1s 98us/sample - loss: 17579.9640 - val_loss: 41036.4733\n",
      "Epoch 83/150\n",
      "5617/5617 [==============================] - 1s 95us/sample - loss: 17591.7528 - val_loss: 42143.9815\n",
      "Epoch 84/150\n",
      "5617/5617 [==============================] - 1s 99us/sample - loss: 17539.3909 - val_loss: 39199.5185\n",
      "Epoch 85/150\n",
      "5617/5617 [==============================] - 1s 104us/sample - loss: 17563.7105 - val_loss: 40370.8473\n",
      "Epoch 86/150\n",
      "5617/5617 [==============================] - 1s 102us/sample - loss: 17506.8896 - val_loss: 40717.5470\n",
      "Epoch 87/150\n",
      "5617/5617 [==============================] - 1s 104us/sample - loss: 17369.3275 - val_loss: 40719.8206\n",
      "Epoch 88/150\n",
      "5617/5617 [==============================] - 1s 105us/sample - loss: 17321.7926 - val_loss: 41557.0653\n",
      "Epoch 89/150\n",
      "5617/5617 [==============================] - 1s 99us/sample - loss: 17446.8371 - val_loss: 41575.9438\n",
      "Epoch 90/150\n",
      "5617/5617 [==============================] - 1s 100us/sample - loss: 17498.8730 - val_loss: 39559.1772\n",
      "Epoch 91/150\n",
      "5617/5617 [==============================] - 1s 104us/sample - loss: 17408.5821 - val_loss: 40355.4503\n",
      "Epoch 92/150\n",
      "5617/5617 [==============================] - 1s 102us/sample - loss: 17656.8714 - val_loss: 41621.4152\n",
      "Epoch 93/150\n",
      "5617/5617 [==============================] - 1s 99us/sample - loss: 17595.2776 - val_loss: 45105.3781\n",
      "Epoch 94/150\n",
      "5617/5617 [==============================] - 1s 99us/sample - loss: 17694.5792 - val_loss: 42294.8488\n",
      "Epoch 95/150\n",
      "5617/5617 [==============================] - 1s 99us/sample - loss: 17386.9500 - val_loss: 43435.1276\n",
      "Epoch 96/150\n",
      "5617/5617 [==============================] - 1s 99us/sample - loss: 17396.8896 - val_loss: 42914.9740\n",
      "Epoch 97/150\n",
      "5617/5617 [==============================] - 1s 99us/sample - loss: 17448.8552 - val_loss: 43877.2652\n",
      "Epoch 98/150\n",
      "5617/5617 [==============================] - 1s 100us/sample - loss: 17705.7679 - val_loss: 41464.2256\n",
      "Epoch 99/150\n",
      "5617/5617 [==============================] - 1s 103us/sample - loss: 17428.4486 - val_loss: 40858.4254\n",
      "Epoch 100/150\n",
      "5617/5617 [==============================] - 1s 102us/sample - loss: 17290.1854 - val_loss: 42065.3405\n",
      "Epoch 101/150\n",
      "5617/5617 [==============================] - 1s 115us/sample - loss: 17356.9823 - val_loss: 40984.8333\n",
      "Epoch 102/150\n",
      "5617/5617 [==============================] - 1s 114us/sample - loss: 17216.5377 - val_loss: 40992.9880\n",
      "Epoch 103/150\n",
      "5617/5617 [==============================] - 1s 121us/sample - loss: 17147.1799 - val_loss: 42539.2198\n",
      "Epoch 104/150\n",
      "5617/5617 [==============================] - 1s 111us/sample - loss: 17113.3674 - val_loss: 40968.3870\n",
      "Epoch 105/150\n",
      "5617/5617 [==============================] - 1s 113us/sample - loss: 17193.4238 - val_loss: 42405.0578\n",
      "Epoch 106/150\n",
      "5617/5617 [==============================] - 1s 118us/sample - loss: 17201.5702 - val_loss: 41763.7596\n",
      "Epoch 107/150\n",
      "5617/5617 [==============================] - 1s 117us/sample - loss: 17116.6728 - val_loss: 41797.1413\n",
      "Epoch 108/150\n",
      "5617/5617 [==============================] - 1s 109us/sample - loss: 17105.5357 - val_loss: 44671.0338\n",
      "Epoch 109/150\n",
      "5617/5617 [==============================] - 1s 116us/sample - loss: 17160.1797 - val_loss: 41708.1572\n",
      "Epoch 110/150\n",
      "5617/5617 [==============================] - 1s 109us/sample - loss: 17271.7350 - val_loss: 46455.5976\n",
      "Epoch 111/150\n",
      "5617/5617 [==============================] - 1s 105us/sample - loss: 17294.6045 - val_loss: 43687.4182\n",
      "Epoch 112/150\n",
      "5617/5617 [==============================] - 1s 104us/sample - loss: 17286.0150 - val_loss: 42566.0697\n",
      "Epoch 113/150\n",
      "5617/5617 [==============================] - 1s 118us/sample - loss: 17270.8478 - val_loss: 41898.4845\n",
      "Epoch 114/150\n",
      "5617/5617 [==============================] - 1s 117us/sample - loss: 16989.7700 - val_loss: 41864.4980\n",
      "Epoch 115/150\n",
      "5617/5617 [==============================] - 1s 100us/sample - loss: 16999.3330 - val_loss: 43550.2082\n",
      "Epoch 116/150\n",
      "5617/5617 [==============================] - 1s 98us/sample - loss: 17049.8278 - val_loss: 41841.0307\n",
      "Epoch 117/150\n",
      "5617/5617 [==============================] - 1s 111us/sample - loss: 17109.8651 - val_loss: 42497.7182\n",
      "Epoch 118/150\n",
      "5617/5617 [==============================] - 1s 101us/sample - loss: 16990.8159 - val_loss: 41512.1704\n",
      "Epoch 119/150\n",
      "5617/5617 [==============================] - 1s 112us/sample - loss: 16996.6073 - val_loss: 42559.6886\n",
      "Epoch 120/150\n",
      "5617/5617 [==============================] - 1s 106us/sample - loss: 16996.5704 - val_loss: 42472.0017\n",
      "Epoch 121/150\n",
      "5617/5617 [==============================] - 1s 103us/sample - loss: 16975.2114 - val_loss: 42951.6441\n",
      "Epoch 122/150\n",
      "5617/5617 [==============================] - 1s 102us/sample - loss: 17201.1238 - val_loss: 43237.6303\n",
      "Epoch 123/150\n",
      "5617/5617 [==============================] - 1s 116us/sample - loss: 17150.4695 - val_loss: 41945.9826\n",
      "Epoch 124/150\n",
      "5617/5617 [==============================] - 1s 97us/sample - loss: 17387.6614 - val_loss: 41388.2148\n",
      "Epoch 125/150\n",
      "5617/5617 [==============================] - 1s 113us/sample - loss: 17200.4472 - val_loss: 42597.6946\n",
      "Epoch 126/150\n",
      "5617/5617 [==============================] - 1s 118us/sample - loss: 17249.8995 - val_loss: 43136.0039\n",
      "Epoch 127/150\n",
      "5617/5617 [==============================] - 1s 112us/sample - loss: 17127.5730 - val_loss: 45476.0590\n",
      "Epoch 128/150\n",
      "5617/5617 [==============================] - 1s 109us/sample - loss: 17060.6243 - val_loss: 45873.7032\n",
      "Epoch 129/150\n",
      "5617/5617 [==============================] - 1s 108us/sample - loss: 16956.5953 - val_loss: 45095.2200\n",
      "Epoch 130/150\n",
      "5617/5617 [==============================] - 1s 120us/sample - loss: 16969.3449 - val_loss: 44554.8039\n",
      "Epoch 131/150\n",
      "5617/5617 [==============================] - 1s 111us/sample - loss: 16878.0494 - val_loss: 42662.5400\n",
      "Epoch 132/150\n",
      "5617/5617 [==============================] - 1s 119us/sample - loss: 16956.6469 - val_loss: 42869.4472\n",
      "Epoch 133/150\n",
      "5617/5617 [==============================] - 1s 129us/sample - loss: 16891.5847 - val_loss: 42042.5280\n",
      "Epoch 134/150\n",
      "5617/5617 [==============================] - 1s 130us/sample - loss: 17083.1707 - val_loss: 42486.5832\n",
      "Epoch 135/150\n",
      "5617/5617 [==============================] - 1s 127us/sample - loss: 16953.6239 - val_loss: 43749.7147\n",
      "Epoch 136/150\n",
      "5617/5617 [==============================] - 1s 126us/sample - loss: 16853.3379 - val_loss: 42859.6475\n",
      "Epoch 137/150\n",
      "5617/5617 [==============================] - 1s 126us/sample - loss: 16854.4059 - val_loss: 44862.3066\n",
      "Epoch 138/150\n",
      "5617/5617 [==============================] - 1s 116us/sample - loss: 17084.8343 - val_loss: 46312.3407\n",
      "Epoch 139/150\n",
      "5617/5617 [==============================] - 1s 118us/sample - loss: 17037.7723 - val_loss: 45585.6293\n",
      "Epoch 140/150\n",
      "5617/5617 [==============================] - 1s 114us/sample - loss: 16902.2467 - val_loss: 44159.1696\n",
      "Epoch 141/150\n"
     ]
    },
    {
     "name": "stdout",
     "output_type": "stream",
     "text": [
      "5617/5617 [==============================] - 1s 118us/sample - loss: 16867.3412 - val_loss: 44149.1189\n",
      "Epoch 142/150\n",
      "5617/5617 [==============================] - 1s 107us/sample - loss: 17158.2404 - val_loss: 44499.7005\n",
      "Epoch 143/150\n",
      "5617/5617 [==============================] - 1s 101us/sample - loss: 16864.6700 - val_loss: 43585.9809\n",
      "Epoch 144/150\n",
      "5617/5617 [==============================] - 1s 102us/sample - loss: 17139.7643 - val_loss: 48223.7582\n",
      "Epoch 145/150\n",
      "5617/5617 [==============================] - 1s 111us/sample - loss: 17092.3931 - val_loss: 43338.7398\n",
      "Epoch 146/150\n",
      "5617/5617 [==============================] - 1s 106us/sample - loss: 16906.1598 - val_loss: 43094.0502\n",
      "Epoch 147/150\n",
      "5617/5617 [==============================] - 1s 111us/sample - loss: 16809.4516 - val_loss: 43064.0989\n",
      "Epoch 148/150\n",
      "5617/5617 [==============================] - 1s 114us/sample - loss: 16923.1590 - val_loss: 42452.0424\n",
      "Epoch 149/150\n",
      "5617/5617 [==============================] - 1s 93us/sample - loss: 16795.3244 - val_loss: 42862.4709\n",
      "Epoch 150/150\n",
      "5617/5617 [==============================] - 1s 91us/sample - loss: 16845.2901 - val_loss: 42943.7830\n",
      "\n",
      " 1.0 min.\n"
     ]
    }
   ],
   "source": [
    "start = time.time()\n",
    "\n",
    "model.fit(x=X_train,y=y_train,\n",
    "          validation_data=(X_test,y_test),\n",
    "          batch_size=256,epochs=150,\n",
    "#           callbacks=[early_stop],\n",
    "         )\n",
    "\n",
    "stop = time.time()\n",
    "print('\\n',(stop-start)//60,'min.')"
   ]
  },
  {
   "cell_type": "code",
   "execution_count": 40,
   "metadata": {},
   "outputs": [],
   "source": [
    "losses = pd.DataFrame(model.history.history)"
   ]
  },
  {
   "cell_type": "code",
   "execution_count": 41,
   "metadata": {},
   "outputs": [
    {
     "data": {
      "text/plain": [
       "<AxesSubplot:>"
      ]
     },
     "execution_count": 41,
     "metadata": {},
     "output_type": "execute_result"
    },
    {
     "data": {
      "image/png": "[encoded data removed]",
      "text/plain": [
       "<Figure size 432x288 with 1 Axes>"
      ]
     },
     "metadata": {
      "needs_background": "light"
     },
     "output_type": "display_data"
    }
   ],
   "source": [
    "losses.plot()\n",
    "# plt.ylim(0,20000000000)"
   ]
  },
  {
   "cell_type": "markdown",
   "metadata": {},
   "source": [
    "## model ewaluation"
   ]
  },
  {
   "cell_type": "code",
   "execution_count": 29,
   "metadata": {},
   "outputs": [],
   "source": [
    "from sklearn.metrics import mean_squared_error,mean_absolute_error,explained_variance_score"
   ]
  },
  {
   "cell_type": "code",
   "execution_count": 30,
   "metadata": {},
   "outputs": [],
   "source": [
    "predictions = model.predict(X_test)"
   ]
  },
  {
   "cell_type": "code",
   "execution_count": 31,
   "metadata": {},
   "outputs": [
    {
     "data": {
      "text/plain": [
       "116.29105002104521"
      ]
     },
     "execution_count": 31,
     "metadata": {},
     "output_type": "execute_result"
    }
   ],
   "source": [
    "mean_absolute_error(y_test,predictions)"
   ]
  },
  {
   "cell_type": "code",
   "execution_count": 32,
   "metadata": {},
   "outputs": [
    {
     "data": {
      "text/plain": [
       "207.22881603054262"
      ]
     },
     "execution_count": 32,
     "metadata": {},
     "output_type": "execute_result"
    }
   ],
   "source": [
    "np.sqrt(mean_squared_error(y_test,predictions))"
   ]
  },
  {
   "cell_type": "code",
   "execution_count": 33,
   "metadata": {},
   "outputs": [
    {
     "data": {
      "text/plain": [
       "0.40734271722089355"
      ]
     },
     "execution_count": 33,
     "metadata": {},
     "output_type": "execute_result"
    }
   ],
   "source": [
    "explained_variance_score(y_test,predictions)"
   ]
  },
  {
   "cell_type": "code",
   "execution_count": 34,
   "metadata": {},
   "outputs": [
    {
     "data": {
      "text/plain": [
       "[<matplotlib.lines.Line2D at 0x286cc2d2cf8>]"
      ]
     },
     "execution_count": 34,
     "metadata": {},
     "output_type": "execute_result"
    },
    {
     "data": {
      "image/png": "[encoded data removed]",
      "text/plain": [
       "<Figure size 504x504 with 1 Axes>"
      ]
     },
     "metadata": {
      "needs_background": "light"
     },
     "output_type": "display_data"
    }
   ],
   "source": [
    "plt.figure(figsize=(7,7))\n",
    "# plt.xlim(0,3000000)\n",
    "# plt.ylim(0,3000000)\n",
    "\n",
    "# Our predictions\n",
    "plt.scatter(y_test,predictions,edgecolor=None,alpha=0.2)\n",
    "\n",
    "# Perfect predictions\n",
    "plt.plot(y_test,y_test,'r')"
   ]
  },
  {
   "cell_type": "code",
   "execution_count": 35,
   "metadata": {},
   "outputs": [],
   "source": [
    "errors = y_test.reshape(y_test.shape[0], 1) - predictions"
   ]
  },
  {
   "cell_type": "code",
   "execution_count": 36,
   "metadata": {},
   "outputs": [
    {
     "data": {
      "text/plain": [
       "<AxesSubplot:ylabel='Count'>"
      ]
     },
     "execution_count": 36,
     "metadata": {},
     "output_type": "execute_result"
    },
    {
     "data": {
      "image/png": "[encoded data removed]",
      "text/plain": [
       "<Figure size 432x288 with 1 Axes>"
      ]
     },
     "metadata": {
      "needs_background": "light"
     },
     "output_type": "display_data"
    }
   ],
   "source": [
    "# plt.xlim(-200000,200000)\n",
    "\n",
    "sns.histplot(errors)"
   ]
  },
  {
   "cell_type": "code",
   "execution_count": 37,
   "metadata": {},
   "outputs": [
    {
     "data": {
      "text/plain": [
       "array([361.89673 , 587.02325 ,  46.6618  , 474.27933 , 131.6508  ,\n",
       "       754.06866 , 158.80933 , 337.55145 ,  23.38921 , 561.29944 ,\n",
       "        40.196556, 189.60492 , 124.80566 , 186.81512 , 228.58101 ,\n",
       "       305.73636 , 181.88858 , 123.42283 ,  84.72072 , 536.1507  ],\n",
       "      dtype=float32)"
      ]
     },
     "execution_count": 37,
     "metadata": {},
     "output_type": "execute_result"
    }
   ],
   "source": [
    "predictions.reshape(y_test.shape[0])[:20]"
   ]
  },
  {
   "cell_type": "code",
   "execution_count": 38,
   "metadata": {},
   "outputs": [
    {
     "data": {
      "text/plain": [
       "array([733.49633252, 658.33333333,  44.25327052, 600.96153846,\n",
       "       110.        , 457.7357339 ,  84.95575221, 347.36842105,\n",
       "        32.96146045, 642.45810056,  47.5       , 330.        ,\n",
       "       120.        , 245.        , 125.        , 190.        ,\n",
       "       166.66666667, 169.49152542, 110.        , 258.82352941])"
      ]
     },
     "execution_count": 38,
     "metadata": {},
     "output_type": "execute_result"
    }
   ],
   "source": [
    "y_test[:20]"
   ]
  },
  {
   "cell_type": "code",
   "execution_count": 39,
   "metadata": {},
   "outputs": [
    {
     "data": {
      "text/plain": [
       "array([-371.599604  ,  -71.31007894,    2.40852987, -126.68221107,\n",
       "         21.65080261,  296.33293065,   73.85357396,   -9.81696842,\n",
       "         -9.5722507 ,  -81.15866208,   -7.30344391, -140.39508057,\n",
       "          4.80565643,  -58.18487549,  103.58100891,  115.73635864,\n",
       "         15.22191366,  -46.06869675,  -25.27928162,  277.32716639])"
      ]
     },
     "execution_count": 39,
     "metadata": {},
     "output_type": "execute_result"
    }
   ],
   "source": [
    "predictions.reshape(y_test.shape[0])[:20]-y_test[:20]"
   ]
  },
  {
   "cell_type": "code",
   "execution_count": null,
   "metadata": {},
   "outputs": [],
   "source": []
  }
 ],
 "metadata": {
  "kernelspec": {
   "display_name": "Python 3",
   "language": "python",
   "name": "python3"
  },
  "language_info": {
   "codemirror_mode": {
    "name": "ipython",
    "version": 3
   },
   "file_extension": ".py",
   "mimetype": "text/x-python",
   "name": "python",
   "nbconvert_exporter": "python",
   "pygments_lexer": "ipython3",
   "version": "3.6.12"
  }
 },
 "nbformat": 4,
 "nbformat_minor": 4
}
