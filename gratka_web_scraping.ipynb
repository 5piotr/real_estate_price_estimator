{
 "cells": [
  {
   "cell_type": "markdown",
   "metadata": {},
   "source": [
    "<h3>auctions collection</h3>"
   ]
  },
  {
   "cell_type": "code",
   "execution_count": 5,
   "metadata": {},
   "outputs": [],
   "source": [
    "from bs4 import BeautifulSoup\n",
    "import requests\n",
    "import time\n",
    "import re\n",
    "import numpy as np"
   ]
  },
  {
   "cell_type": "code",
   "execution_count": 2,
   "metadata": {},
   "outputs": [],
   "source": [
    "auction_list = []"
   ]
  },
  {
   "cell_type": "code",
   "execution_count": 3,
   "metadata": {},
   "outputs": [
    {
     "name": "stdout",
     "output_type": "stream",
     "text": [
      "11.0 min.\n"
     ]
    }
   ],
   "source": [
    "start = time.time()\n",
    "\n",
    "for i in range(1,312):\n",
    "    url = 'https://gratka.pl/nieruchomosci/dzialki-grunty/budowlana?page=' + str(i)\n",
    "    page = requests.get(url)\n",
    "    soup = BeautifulSoup(page.content, 'html.parser')\n",
    "    links = soup.find_all(class_=\"teaserEstate__anchor\")\n",
    "    for link in links:\n",
    "        auction_list.append(link['href'])\n",
    "#     time.sleep(1)\n",
    "#     if i%50 == 0:\n",
    "#         time.sleep(5)\n",
    "        \n",
    "stop = time.time()\n",
    "print((stop-start)//60,'min.')"
   ]
  },
  {
   "cell_type": "code",
   "execution_count": 4,
   "metadata": {
    "scrolled": false
   },
   "outputs": [
    {
     "data": {
      "text/plain": [
       "9937"
      ]
     },
     "execution_count": 4,
     "metadata": {},
     "output_type": "execute_result"
    }
   ],
   "source": [
    "len(auction_list)"
   ]
  },
  {
   "cell_type": "markdown",
   "metadata": {},
   "source": [
    "<h3>saving auction list</h3>"
   ]
  },
  {
   "cell_type": "code",
   "execution_count": 5,
   "metadata": {},
   "outputs": [],
   "source": [
    "with open('real_estate_links.txt','w') as file:\n",
    "    for link in auction_list:\n",
    "        file.write(link)\n",
    "        file.write('\\n')"
   ]
  },
  {
   "cell_type": "markdown",
   "metadata": {},
   "source": [
    "<h3>loading auction list</h3>"
   ]
  },
  {
   "cell_type": "code",
   "execution_count": 6,
   "metadata": {},
   "outputs": [],
   "source": [
    "auction_list = []"
   ]
  },
  {
   "cell_type": "code",
   "execution_count": 7,
   "metadata": {},
   "outputs": [],
   "source": [
    "with open('real_estate_links.txt','r') as file:\n",
    "    for line in file:\n",
    "        auction_list.append(line[:-1])"
   ]
  },
  {
   "cell_type": "markdown",
   "metadata": {},
   "source": [
    "<h3>collecting auction details</h3>"
   ]
  },
  {
   "cell_type": "code",
   "execution_count": 8,
   "metadata": {},
   "outputs": [],
   "source": [
    "data = []"
   ]
  },
  {
   "cell_type": "code",
   "execution_count": 9,
   "metadata": {},
   "outputs": [
    {
     "name": "stdout",
     "output_type": "stream",
     "text": [
      "5 %\n",
      "10 %\n",
      "15 %\n",
      "20 %\n",
      "25 %\n",
      "30 %\n",
      "35 %\n",
      "40 %\n",
      "45 %\n",
      "50 %\n",
      "55 %\n",
      "60 %\n",
      "65 %\n",
      "70 %\n",
      "75 %\n",
      "80 %\n",
      "85 %\n",
      "90 %\n",
      "95 %\n",
      "151.0 min.\n"
     ]
    }
   ],
   "source": [
    "start = time.time()\n",
    "\n",
    "i = 0\n",
    "for url in auction_list:\n",
    "    try:\n",
    "        page = requests.get(url)\n",
    "        soup = BeautifulSoup(page.text, 'html.parser')\n",
    "    except:\n",
    "        continue\n",
    "    # location\n",
    "    try:\n",
    "        location = soup.find_all('a',class_=\"parameters__locationLink\")\n",
    "        city = location[0].text\n",
    "    except:\n",
    "        city = ''\n",
    "    try:\n",
    "        district = location[1].text\n",
    "    except:\n",
    "        district = ''\n",
    "    try:\n",
    "        voivodeship = location[2].text\n",
    "    except:\n",
    "        voivodeship = ''\n",
    "    # coordinates\n",
    "    try:\n",
    "        scripts = soup.find(id='leftColumn').find_all('script')\n",
    "        localization_y = re.findall(r'(\\\"\\w+szerokosc.*?\\\"):(\\d*[.\\d]*)', scripts[6].contents[0])[0][1]\n",
    "    except:\n",
    "        localization_y = ''\n",
    "    try:\n",
    "        localization_x = re.findall(r'(\\\"\\w+dlugosc.*?\\\"):(\\d*[.\\d]*)', scripts[6].contents[0])[0][1]\n",
    "    except:\n",
    "        localization_x = ''\n",
    "    # parameters\n",
    "    try:\n",
    "        parameters = soup.find_all('ul',class_=\"parameters__rolled\")\n",
    "        area = re.findall(r'(Powierzchnia).*\\n(.*)m', parameters[0].text)\n",
    "        area = area[0][1].replace(' ','')\n",
    "        area = area.replace(',','.')\n",
    "    except:\n",
    "        area = ''\n",
    "    try:\n",
    "        sewers = re.findall(r'(Kanalizacja).*\\n(.*)', parameters[0].text)[0][1]\n",
    "    except:\n",
    "        sewers = ''\n",
    "    try:\n",
    "        shape = re.findall(r'(Kształt działki).*\\n(.*)', parameters[0].text)[0][1]\n",
    "    except:\n",
    "        shape = ''\n",
    "    try:\n",
    "        road = re.findall(r'(Droga dojazdowa).*\\n(.*)', parameters[0].text)[0][1]\n",
    "    except:\n",
    "        road = ''\n",
    "    try:\n",
    "        fence = re.findall(r'(Ogrodzenie działki).*\\n(.*)', parameters[0].text)[0][1]\n",
    "    except:\n",
    "        fence = ''\n",
    "    try:\n",
    "        water = re.findall(r'(Woda).*\\n(.*)', parameters[0].text)[0][1]\n",
    "    except:\n",
    "        water = ''\n",
    "    try:\n",
    "        electricity = re.findall(r'(Prąd).*\\n(.*)', parameters[0].text)[0][1]\n",
    "    except:\n",
    "        electricity = ''\n",
    "    try:\n",
    "        gas = re.findall(r'(Gaz).*\\n(.*)', parameters[0].text)[0][1]\n",
    "    except:\n",
    "        gas = ''\n",
    "    # price\n",
    "    try:\n",
    "        price_info = soup.find_all('span',class_=\"priceInfo__value\")\n",
    "        price = price_info[0].text.replace(' ','').replace('\\n','').replace(',','.')[:-2]\n",
    "    except:\n",
    "        price = ''\n",
    "    \n",
    "    # data collection\n",
    "    data.append([city,\n",
    "                 district,\n",
    "                 voivodeship,\n",
    "                 localization_y,\n",
    "                 localization_x,\n",
    "                 area,\n",
    "                 sewers,\n",
    "                 shape,\n",
    "                 road,\n",
    "                 fence,\n",
    "                 water,\n",
    "                 electricity,\n",
    "                 gas,\n",
    "                 price])\n",
    "    \n",
    "    i += 1\n",
    "    if i%500 == 0:\n",
    "        print(int(i/len(auction_list)*100),'%')\n",
    "    \n",
    "#     time.sleep(0.5)\n",
    "        \n",
    "stop = time.time()\n",
    "print((stop-start)//60,'min.')"
   ]
  },
  {
   "cell_type": "markdown",
   "metadata": {},
   "source": [
    "<h3>saving auction details</h3>"
   ]
  },
  {
   "cell_type": "code",
   "execution_count": 10,
   "metadata": {},
   "outputs": [],
   "source": [
    "with open('real_estate_details_3.csv','w') as file:\n",
    "    file.write('city,district,voivodeship,localization_y,localization_x,area,sewers,shape,road,fence,water,electricity,gas,price\\n')\n",
    "    for line in data:\n",
    "        file.write(','.join(line) + '\\n')"
   ]
  },
  {
   "cell_type": "code",
   "execution_count": null,
   "metadata": {},
   "outputs": [],
   "source": []
  }
 ],
 "metadata": {
  "kernelspec": {
   "display_name": "Python 3",
   "language": "python",
   "name": "python3"
  },
  "language_info": {
   "codemirror_mode": {
    "name": "ipython",
    "version": 3
   },
   "file_extension": ".py",
   "mimetype": "text/x-python",
   "name": "python",
   "nbconvert_exporter": "python",
   "pygments_lexer": "ipython3",
   "version": "3.6.12"
  }
 },
 "nbformat": 4,
 "nbformat_minor": 4
}
