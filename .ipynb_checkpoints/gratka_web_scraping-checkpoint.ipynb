{
 "cells": [
  {
   "cell_type": "code",
   "execution_count": 136,
   "metadata": {},
   "outputs": [],
   "source": [
    "from bs4 import BeautifulSoup\n",
    "import requests\n",
    "import time\n",
    "import re\n",
    "import numpy as np"
   ]
  },
  {
   "cell_type": "code",
   "execution_count": 105,
   "metadata": {},
   "outputs": [],
   "source": [
    "auction_list = []"
   ]
  },
  {
   "cell_type": "code",
   "execution_count": 106,
   "metadata": {},
   "outputs": [
    {
     "name": "stdout",
     "output_type": "stream",
     "text": [
      "1579645099.932241 min.\n"
     ]
    }
   ],
   "source": [
    "start = time.time()\n",
    "\n",
    "for i in range(1,312):\n",
    "    url = 'https://gratka.pl/nieruchomosci/dzialki-grunty/budowlana?page=' + str(i)\n",
    "    page = requests.get(url)\n",
    "    soup = BeautifulSoup(page.content, 'html.parser')\n",
    "    links = soup.find_all(class_=\"teaserEstate__anchor\")\n",
    "    for link in links:\n",
    "        auction_list.append(link['href'])\n",
    "    time.sleep(1)\n",
    "    if i%50 == 0:\n",
    "        time.sleep(5)\n",
    "        \n",
    "stop = time.time()\n",
    "print((stop-start)//60,'min.')"
   ]
  },
  {
   "cell_type": "code",
   "execution_count": 107,
   "metadata": {
    "scrolled": true
   },
   "outputs": [
    {
     "data": {
      "text/plain": [
       "9941"
      ]
     },
     "execution_count": 107,
     "metadata": {},
     "output_type": "execute_result"
    }
   ],
   "source": [
    "len(auction_list)"
   ]
  },
  {
   "cell_type": "code",
   "execution_count": 111,
   "metadata": {},
   "outputs": [
    {
     "name": "stdout",
     "output_type": "stream",
     "text": [
      "0.0 min.\n"
     ]
    }
   ],
   "source": [
    "start = time.time()\n",
    "\n",
    "with open('real_estate_links.txt','w') as file:\n",
    "    for link in auction_list:\n",
    "        file.write(link)\n",
    "        file.write('\\n')\n",
    "        \n",
    "stop = time.time()\n",
    "print((stop-start)//60,'min.')"
   ]
  },
  {
   "cell_type": "code",
   "execution_count": 99,
   "metadata": {},
   "outputs": [],
   "source": [
    "auction_list = []"
   ]
  },
  {
   "cell_type": "code",
   "execution_count": 100,
   "metadata": {},
   "outputs": [],
   "source": [
    "with open('real_estate_links.txt','r') as file:\n",
    "    for line in file:\n",
    "        auction_list.append(line[:-1])"
   ]
  },
  {
   "cell_type": "code",
   "execution_count": 140,
   "metadata": {},
   "outputs": [],
   "source": [
    "data = []"
   ]
  },
  {
   "cell_type": "code",
   "execution_count": 141,
   "metadata": {},
   "outputs": [
    {
     "name": "stdout",
     "output_type": "stream",
     "text": [
      "0.0 min.\n"
     ]
    }
   ],
   "source": [
    "start = time.time()\n",
    "\n",
    "for url in auction_list[:11]:\n",
    "    try:\n",
    "        page = requests.get(url)\n",
    "        soup = BeautifulSoup(page.text, 'html.parser')\n",
    "    except:\n",
    "        continue\n",
    "    # location\n",
    "    try:\n",
    "        location = soup.find_all('a',class_=\"parameters__locationLink\")\n",
    "        city = location[0].text\n",
    "    except:\n",
    "        city = 'NaN'\n",
    "    try:\n",
    "        district = location[1].text\n",
    "    except:\n",
    "        district = 'NaN'\n",
    "    try:\n",
    "        voivodeship = location[2].text\n",
    "    except:\n",
    "        voivodeship = 'NaN'\n",
    "    # coordinates\n",
    "    scripts = soup.find(id='leftColumn').find_all('script')\n",
    "    localization_y = re.findall(r'(\\\"\\w+szerokosc.*?\\\"):(\\d*.\\d*)', scripts[6].contents[0])[0][1]\n",
    "    localization_x = re.findall(r'(\\\"\\w+dlugosc.*?\\\"):(\\d*.\\d*)', scripts[6].contents[0])[0][1]\n",
    "    # parameters\n",
    "    parameters = soup.find_all('ul',class_=\"parameters__rolled\")\n",
    "    area = re.findall(r'(Powierzchnia).*\\n(.*)m', parameters[0].text)\n",
    "    area = area[0][1].replace(' ','')\n",
    "    try:\n",
    "        sewers = re.findall(r'(Kanalizacja).*\\n(.*)', parameters[0].text)[0][1]\n",
    "    except:\n",
    "        sewers = 'NaN'\n",
    "    try:\n",
    "        shape = re.findall(r'(Kształt działki).*\\n(.*)', parameters[0].text)[0][1]\n",
    "    except:\n",
    "        shape = 'NaN'\n",
    "    try:\n",
    "        road = re.findall(r'(Droga dojazdowa).*\\n(.*)', parameters[0].text)[0][1]\n",
    "    except:\n",
    "        road = 'NaN'\n",
    "    try:\n",
    "        fence = re.findall(r'(Ogrodzenie działki).*\\n(.*)', parameters[0].text)[0][1]\n",
    "    except:\n",
    "        fence = 'NaN'\n",
    "    try:\n",
    "        water = re.findall(r'(Woda).*\\n(.*)', parameters[0].text)[0][1]\n",
    "    except:\n",
    "        water = 'NaN'\n",
    "    try:\n",
    "        electricity = re.findall(r'(Prąd).*\\n(.*)', parameters[0].text)[0][1]\n",
    "    except:\n",
    "        electricity = 'NaN'\n",
    "    try:\n",
    "        gas = re.findall(r'(Gaz).*\\n(.*)', parameters[0].text)[0][1]\n",
    "    except:\n",
    "        gas = 'NaN'\n",
    "    # price\n",
    "    price_info = soup.find_all('span',class_=\"priceInfo__value\")\n",
    "    price = price_info[0].text.replace(' ','').replace('\\n','')[:-2]\n",
    "    \n",
    "    # data collection\n",
    "    data.append([city,\n",
    "                 district,\n",
    "                 voivodeship,\n",
    "                 localization_y,\n",
    "                 localization_x,\n",
    "                 area,\n",
    "                 sewers,\n",
    "                 shape,\n",
    "                 road,\n",
    "                 fence,\n",
    "                 water,\n",
    "                 electricity,\n",
    "                 gas,\n",
    "                 price])\n",
    "        \n",
    "stop = time.time()\n",
    "print((stop-start)//60,'min.')"
   ]
  },
  {
   "cell_type": "code",
   "execution_count": 142,
   "metadata": {},
   "outputs": [],
   "source": [
    "data = np.array(data)"
   ]
  },
  {
   "cell_type": "code",
   "execution_count": 143,
   "metadata": {},
   "outputs": [
    {
     "data": {
      "text/plain": [
       "array([['Siewierz', 'będziński', 'śląskie', '50.472433', '19.233789',\n",
       "        '18', 'szambo', 'prostokąt', 'asfaltowa', 'żywopłot',\n",
       "        'wodociąg na działce', 'na działce', 'brak', '229000'],\n",
       "       ['Stanisławów Nowy', 'pabianicki', 'łódzkie', '51.80133',\n",
       "        '19.189772', '1200', 'NaN', 'prostokąt', 'utwardzana', 'NaN',\n",
       "        'NaN', 'NaN', 'NaN', '84000'],\n",
       "       ['Bełdów-Krzywa Wieś', 'zgierski', 'łódzkie', '51.835925',\n",
       "        '19.19301', '1004', 'NaN', 'prostokąt', 'utwardzana', 'NaN',\n",
       "        'wodociąg w drodze', 'w drodze', 'NaN', '90360'],\n",
       "       ['Nadarzyn', 'pruszkowski', 'mazowieckie', '52.093404',\n",
       "        '20.807995', '950', 'NaN', 'NaN', 'utwardzana', 'brak', 'NaN',\n",
       "        'NaN', 'NaN', '295000'],\n",
       "       ['Rusiec', 'pruszkowski', 'mazowieckie', '52.081861', '20.793567',\n",
       "        '1160', 'NaN', 'NaN', 'utwardzana', 'brak', 'NaN', 'NaN', 'NaN',\n",
       "        '255200'],\n",
       "       ['Kuźnica Żelichowska', 'czarnkowsko-trzcianecki',\n",
       "        'wielkopolskie', '52.975746', '16.084954', '3400', 'NaN',\n",
       "        'prostokąt', 'asfaltowa', 'NaN', 'NaN', 'NaN', 'NaN', '85000'],\n",
       "       ['Konstancin-Jeziorna', 'piaseczyński', 'mazowieckie',\n",
       "        '52.0938717', '21.117722', '1100', 'NaN', 'NaN', 'NaN', 'NaN',\n",
       "        'NaN', 'NaN', 'NaN', '490000'],\n",
       "       ['Leoncin', 'nowodworski', 'mazowieckie', '52.393966',\n",
       "        '20.539669', '1070', 'NaN', 'prostokąt', 'asfaltowa', 'NaN',\n",
       "        'NaN', 'na działce', 'NaN', '62000'],\n",
       "       ['Stawiszcze', 'sieradzki', 'łódzkie', '51.604241', '18.838237',\n",
       "        '30000', 'NaN', 'kwadrat', 'asfaltowa', 'mieszane',\n",
       "        'własne ujęcie/studnia', 'na działce', 'NaN', '900000'],\n",
       "       ['Pszczyna', 'Podstarzyniec', 'śląskie', '49.984503124002',\n",
       "        '18.965277306856', '3312', 'miejska', 'kwadrat', 'utwardzana',\n",
       "        'siatka', 'wodociąg w drodze', 'w drodze', 'w drodze', '330000'],\n",
       "       ['Łódź', 'łódzkie', 'NaN', '51.775375', '19.456386', '761', 'NaN',\n",
       "        'kwadrat', 'NaN', 'NaN', 'wodociąg w drodze', 'na działce',\n",
       "        'w drodze', '250000']], dtype='<U23')"
      ]
     },
     "execution_count": 143,
     "metadata": {},
     "output_type": "execute_result"
    }
   ],
   "source": [
    "data"
   ]
  },
  {
   "cell_type": "code",
   "execution_count": null,
   "metadata": {},
   "outputs": [],
   "source": []
  }
 ],
 "metadata": {
  "kernelspec": {
   "display_name": "Python 3",
   "language": "python",
   "name": "python3"
  },
  "language_info": {
   "codemirror_mode": {
    "name": "ipython",
    "version": 3
   },
   "file_extension": ".py",
   "mimetype": "text/x-python",
   "name": "python",
   "nbconvert_exporter": "python",
   "pygments_lexer": "ipython3",
   "version": "3.6.12"
  }
 },
 "nbformat": 4,
 "nbformat_minor": 4
}
