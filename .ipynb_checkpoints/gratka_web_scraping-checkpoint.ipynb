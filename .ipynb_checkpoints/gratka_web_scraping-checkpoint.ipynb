{
 "cells": [
  {
   "cell_type": "code",
   "execution_count": 262,
   "metadata": {},
   "outputs": [],
   "source": [
    "from bs4 import BeautifulSoup\n",
    "import requests\n",
    "import time\n",
    "import re"
   ]
  },
  {
   "cell_type": "code",
   "execution_count": 105,
   "metadata": {},
   "outputs": [],
   "source": [
    "auction_list = []"
   ]
  },
  {
   "cell_type": "code",
   "execution_count": 106,
   "metadata": {},
   "outputs": [
    {
     "name": "stdout",
     "output_type": "stream",
     "text": [
      "1579645099.932241 min.\n"
     ]
    }
   ],
   "source": [
    "start = time.time()\n",
    "\n",
    "for i in range(1,312):\n",
    "    url = 'https://gratka.pl/nieruchomosci/dzialki-grunty/budowlana?page=' + str(i)\n",
    "    page = requests.get(url)\n",
    "    soup = BeautifulSoup(page.content, 'html.parser')\n",
    "    links = soup.find_all(class_=\"teaserEstate__anchor\")\n",
    "    for link in links:\n",
    "        auction_list.append(link['href'])\n",
    "    time.sleep(1)\n",
    "    if i%50 == 0:\n",
    "        time.sleep(5)\n",
    "        \n",
    "stop = time.time()\n",
    "print((stop-start)//60,'min.')"
   ]
  },
  {
   "cell_type": "code",
   "execution_count": 107,
   "metadata": {
    "scrolled": true
   },
   "outputs": [
    {
     "data": {
      "text/plain": [
       "9941"
      ]
     },
     "execution_count": 107,
     "metadata": {},
     "output_type": "execute_result"
    }
   ],
   "source": [
    "len(auction_list)"
   ]
  },
  {
   "cell_type": "code",
   "execution_count": 111,
   "metadata": {},
   "outputs": [
    {
     "name": "stdout",
     "output_type": "stream",
     "text": [
      "0.0 min.\n"
     ]
    }
   ],
   "source": [
    "start = time.time()\n",
    "\n",
    "with open('real_estate_links.txt','w') as file:\n",
    "    for link in auction_list:\n",
    "        file.write(link)\n",
    "        file.write('\\n')\n",
    "        \n",
    "stop = time.time()\n",
    "print((stop-start)//60,'min.')"
   ]
  },
  {
   "cell_type": "code",
   "execution_count": 135,
   "metadata": {},
   "outputs": [],
   "source": [
    "auction_list = []"
   ]
  },
  {
   "cell_type": "code",
   "execution_count": 136,
   "metadata": {},
   "outputs": [],
   "source": [
    "with open('real_estate_links.txt','r') as file:\n",
    "    for line in file:\n",
    "        auction_list.append(line[:-1])"
   ]
  },
  {
   "cell_type": "code",
   "execution_count": 252,
   "metadata": {},
   "outputs": [],
   "source": [
    "url = auction_list[0]\n",
    "page = requests.get(url)\n",
    "soup = BeautifulSoup(page.text, 'html.parser')"
   ]
  },
  {
   "cell_type": "code",
   "execution_count": 258,
   "metadata": {},
   "outputs": [
    {
     "name": "stdout",
     "output_type": "stream",
     "text": [
      "miejscowość: Siewierz\n",
      "powiat: będziński\n",
      "wojewodztwo: śląskie\n"
     ]
    }
   ],
   "source": [
    "location = soup.find_all('a',class_=\"parameters__locationLink\")\n",
    "print('miejscowość:',location[0].text)\n",
    "print('powiat:',location[1].text)\n",
    "print('wojewodztwo:',location[2].text)"
   ]
  },
  {
   "cell_type": "code",
   "execution_count": 254,
   "metadata": {},
   "outputs": [],
   "source": [
    "scripts = soup.find(id='leftColumn').find_all('script')"
   ]
  },
  {
   "cell_type": "code",
   "execution_count": 255,
   "metadata": {},
   "outputs": [
    {
     "data": {
      "text/plain": [
       "9"
      ]
     },
     "execution_count": 255,
     "metadata": {},
     "output_type": "execute_result"
    }
   ],
   "source": [
    "len(scripts)"
   ]
  },
  {
   "cell_type": "code",
   "execution_count": 260,
   "metadata": {},
   "outputs": [
    {
     "name": "stdout",
     "output_type": "stream",
     "text": [
      "\n",
      "  (async () => {\n",
      "    await import(\"https://s-gr.cdngr.pl/assets/gratka/v0.39.6/dist/js/Map.js\");\n",
      "\n",
      "    Map.init('#item-map', {\n",
      "      gratkaMapsUrl: 'https://map.api.gratka.it',\n",
      "      assetsUrl: 'https://s-gr.cdngr.pl/assets/gratka/v0.39.6/dist/',\n",
      "      locationApiHost: 'https://locations.api.gratka.it/locations/v1',\n",
      "      apiUrl: 'https://gratka.api.gratka.it/gratka/v2',\n",
      "      eventType: 'click',\n",
      "      statisticsType: 'show_map',\n",
      "      locationParams: {\"lokalizacja_szerokosc-geograficzna-y\":50.472433,\"lokalizacja_region\":\"\\u015bl\\u0105skie\",\"lokalizacja_powiat\":\"b\\u0119dzi\\u0144ski\",\"lokalizacja_miejscowosc\":\"Siewierz\",\"lokalizacja_kraj\":\"Polska\",\"lokalizacja_gmina\":\"Siewierz\",\"lokalizacja_dlugosc-geograficzna-x\":19.233789},\n",
      "      offersId: [18670089]\n",
      "    });\n",
      "  })();\n",
      "\n"
     ]
    }
   ],
   "source": [
    "print(scripts[6].contents[0])"
   ]
  },
  {
   "cell_type": "code",
   "execution_count": 271,
   "metadata": {},
   "outputs": [
    {
     "name": "stdout",
     "output_type": "stream",
     "text": [
      "{'locationParams': '\"lokalizacja_szerokosc-geograficzna-y\":50.472433,\"lokalizacja_region\":\"\\\\u015bl\\\\u0105skie\",\"lokalizacja_powiat\":\"b\\\\u0119dzi\\\\u0144ski\",\"lokalizacja_miejscowosc\":\"Siewierz\",\"lokalizacja_kraj\":\"Polska\",\"lokalizacja_gmina\":\"Siewierz\",\"lokalizacja_dlugosc-geograficzna-x\":19.233789'}\n"
     ]
    }
   ],
   "source": [
    "pattern = re.compile(\"(\\w+): {(.*?)}\")\n",
    "fields = dict(re.findall(pattern, scripts[6].contents[0]))\n",
    "print(fields)"
   ]
  },
  {
   "cell_type": "code",
   "execution_count": 264,
   "metadata": {},
   "outputs": [
    {
     "data": {
      "text/plain": [
       "6"
      ]
     },
     "execution_count": 264,
     "metadata": {},
     "output_type": "execute_result"
    }
   ],
   "source": [
    "len(fields)"
   ]
  },
  {
   "cell_type": "code",
   "execution_count": null,
   "metadata": {},
   "outputs": [],
   "source": []
  }
 ],
 "metadata": {
  "kernelspec": {
   "display_name": "Python 3",
   "language": "python",
   "name": "python3"
  },
  "language_info": {
   "codemirror_mode": {
    "name": "ipython",
    "version": 3
   },
   "file_extension": ".py",
   "mimetype": "text/x-python",
   "name": "python",
   "nbconvert_exporter": "python",
   "pygments_lexer": "ipython3",
   "version": "3.6.12"
  }
 },
 "nbformat": 4,
 "nbformat_minor": 4
}
