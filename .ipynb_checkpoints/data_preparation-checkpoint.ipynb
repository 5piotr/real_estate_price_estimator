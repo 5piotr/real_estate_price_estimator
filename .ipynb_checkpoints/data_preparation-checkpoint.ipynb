{
 "cells": [
  {
   "cell_type": "code",
   "execution_count": 1,
   "metadata": {},
   "outputs": [],
   "source": [
    "import pandas as pd\n",
    "import numpy as np\n",
    "import pickle as pkl"
   ]
  },
  {
   "cell_type": "code",
   "execution_count": 2,
   "metadata": {},
   "outputs": [],
   "source": [
    "frame = pd.read_csv('real_estate_details_3.csv',encoding='cp1250')"
   ]
  },
  {
   "cell_type": "code",
   "execution_count": 3,
   "metadata": {},
   "outputs": [
    {
     "data": {
      "text/html": [
       "<div>\n",
       "<style scoped>\n",
       "    .dataframe tbody tr th:only-of-type {\n",
       "        vertical-align: middle;\n",
       "    }\n",
       "\n",
       "    .dataframe tbody tr th {\n",
       "        vertical-align: top;\n",
       "    }\n",
       "\n",
       "    .dataframe thead th {\n",
       "        text-align: right;\n",
       "    }\n",
       "</style>\n",
       "<table border=\"1\" class=\"dataframe\">\n",
       "  <thead>\n",
       "    <tr style=\"text-align: right;\">\n",
       "      <th></th>\n",
       "      <th>city</th>\n",
       "      <th>district</th>\n",
       "      <th>voivodeship</th>\n",
       "      <th>localization_y</th>\n",
       "      <th>localization_x</th>\n",
       "      <th>area</th>\n",
       "      <th>sewers</th>\n",
       "      <th>shape</th>\n",
       "      <th>road</th>\n",
       "      <th>fence</th>\n",
       "      <th>water</th>\n",
       "      <th>electricity</th>\n",
       "      <th>gas</th>\n",
       "      <th>price</th>\n",
       "    </tr>\n",
       "  </thead>\n",
       "  <tbody>\n",
       "    <tr>\n",
       "      <th>0</th>\n",
       "      <td>Bełdów-Krzywa Wieś</td>\n",
       "      <td>zgierski</td>\n",
       "      <td>łódzkie</td>\n",
       "      <td>51.835925</td>\n",
       "      <td>19.193010</td>\n",
       "      <td>1004.0</td>\n",
       "      <td>NaN</td>\n",
       "      <td>prostokąt</td>\n",
       "      <td>utwardzana</td>\n",
       "      <td>NaN</td>\n",
       "      <td>wodociąg w drodze</td>\n",
       "      <td>w drodze</td>\n",
       "      <td>NaN</td>\n",
       "      <td>90360.0</td>\n",
       "    </tr>\n",
       "    <tr>\n",
       "      <th>1</th>\n",
       "      <td>Siewierz</td>\n",
       "      <td>będziński</td>\n",
       "      <td>śląskie</td>\n",
       "      <td>50.472433</td>\n",
       "      <td>19.233789</td>\n",
       "      <td>18.0</td>\n",
       "      <td>szambo</td>\n",
       "      <td>prostokąt</td>\n",
       "      <td>asfaltowa</td>\n",
       "      <td>żywopłot</td>\n",
       "      <td>wodociąg na działce</td>\n",
       "      <td>na działce</td>\n",
       "      <td>brak</td>\n",
       "      <td>229000.0</td>\n",
       "    </tr>\n",
       "    <tr>\n",
       "      <th>2</th>\n",
       "      <td>Stanisławów Nowy</td>\n",
       "      <td>pabianicki</td>\n",
       "      <td>łódzkie</td>\n",
       "      <td>51.801330</td>\n",
       "      <td>19.189772</td>\n",
       "      <td>1200.0</td>\n",
       "      <td>NaN</td>\n",
       "      <td>prostokąt</td>\n",
       "      <td>utwardzana</td>\n",
       "      <td>NaN</td>\n",
       "      <td>NaN</td>\n",
       "      <td>NaN</td>\n",
       "      <td>NaN</td>\n",
       "      <td>84000.0</td>\n",
       "    </tr>\n",
       "    <tr>\n",
       "      <th>3</th>\n",
       "      <td>Julianowo</td>\n",
       "      <td>szczycieński</td>\n",
       "      <td>warmińsko-mazurskie</td>\n",
       "      <td>53.723500</td>\n",
       "      <td>20.867400</td>\n",
       "      <td>1262.0</td>\n",
       "      <td>NaN</td>\n",
       "      <td>NaN</td>\n",
       "      <td>utwardzana</td>\n",
       "      <td>NaN</td>\n",
       "      <td>własne ujęcie/studnia</td>\n",
       "      <td>NaN</td>\n",
       "      <td>brak</td>\n",
       "      <td>88340.0</td>\n",
       "    </tr>\n",
       "    <tr>\n",
       "      <th>4</th>\n",
       "      <td>Nadarzyn</td>\n",
       "      <td>pruszkowski</td>\n",
       "      <td>mazowieckie</td>\n",
       "      <td>52.094000</td>\n",
       "      <td>20.807400</td>\n",
       "      <td>950.0</td>\n",
       "      <td>NaN</td>\n",
       "      <td>NaN</td>\n",
       "      <td>utwardzana</td>\n",
       "      <td>brak</td>\n",
       "      <td>NaN</td>\n",
       "      <td>NaN</td>\n",
       "      <td>NaN</td>\n",
       "      <td>295000.0</td>\n",
       "    </tr>\n",
       "  </tbody>\n",
       "</table>\n",
       "</div>"
      ],
      "text/plain": [
       "                 city      district          voivodeship  localization_y  \\\n",
       "0  Bełdów-Krzywa Wieś      zgierski              łódzkie       51.835925   \n",
       "1            Siewierz     będziński              śląskie       50.472433   \n",
       "2    Stanisławów Nowy    pabianicki              łódzkie       51.801330   \n",
       "3           Julianowo  szczycieński  warmińsko-mazurskie       53.723500   \n",
       "4            Nadarzyn   pruszkowski          mazowieckie       52.094000   \n",
       "\n",
       "   localization_x    area  sewers      shape        road     fence  \\\n",
       "0       19.193010  1004.0     NaN  prostokąt  utwardzana       NaN   \n",
       "1       19.233789    18.0  szambo  prostokąt   asfaltowa  żywopłot   \n",
       "2       19.189772  1200.0     NaN  prostokąt  utwardzana       NaN   \n",
       "3       20.867400  1262.0     NaN        NaN  utwardzana       NaN   \n",
       "4       20.807400   950.0     NaN        NaN  utwardzana      brak   \n",
       "\n",
       "                   water electricity   gas     price  \n",
       "0      wodociąg w drodze    w drodze   NaN   90360.0  \n",
       "1    wodociąg na działce  na działce  brak  229000.0  \n",
       "2                    NaN         NaN   NaN   84000.0  \n",
       "3  własne ujęcie/studnia         NaN  brak   88340.0  \n",
       "4                    NaN         NaN   NaN  295000.0  "
      ]
     },
     "execution_count": 3,
     "metadata": {},
     "output_type": "execute_result"
    }
   ],
   "source": [
    "frame.head()"
   ]
  },
  {
   "cell_type": "code",
   "execution_count": 4,
   "metadata": {},
   "outputs": [
    {
     "name": "stdout",
     "output_type": "stream",
     "text": [
      "<class 'pandas.core.frame.DataFrame'>\n",
      "RangeIndex: 9937 entries, 0 to 9936\n",
      "Data columns (total 14 columns):\n",
      " #   Column          Non-Null Count  Dtype  \n",
      "---  ------          --------------  -----  \n",
      " 0   city            9656 non-null   object \n",
      " 1   district        9649 non-null   object \n",
      " 2   voivodeship     9163 non-null   object \n",
      " 3   localization_y  9254 non-null   float64\n",
      " 4   localization_x  9517 non-null   float64\n",
      " 5   area            9638 non-null   float64\n",
      " 6   sewers          1884 non-null   object \n",
      " 7   shape           1957 non-null   object \n",
      " 8   road            5127 non-null   object \n",
      " 9   fence           5321 non-null   object \n",
      " 10  water           273 non-null    object \n",
      " 11  electricity     147 non-null    object \n",
      " 12  gas             581 non-null    object \n",
      " 13  price           9656 non-null   float64\n",
      "dtypes: float64(4), object(10)\n",
      "memory usage: 1.1+ MB\n"
     ]
    }
   ],
   "source": [
    "frame.info()"
   ]
  },
  {
   "cell_type": "code",
   "execution_count": 5,
   "metadata": {},
   "outputs": [
    {
     "data": {
      "text/plain": [
       "645"
      ]
     },
     "execution_count": 5,
     "metadata": {},
     "output_type": "execute_result"
    }
   ],
   "source": [
    "frame['district'].nunique()"
   ]
  },
  {
   "cell_type": "code",
   "execution_count": 5,
   "metadata": {},
   "outputs": [
    {
     "data": {
      "text/html": [
       "<div>\n",
       "<style scoped>\n",
       "    .dataframe tbody tr th:only-of-type {\n",
       "        vertical-align: middle;\n",
       "    }\n",
       "\n",
       "    .dataframe tbody tr th {\n",
       "        vertical-align: top;\n",
       "    }\n",
       "\n",
       "    .dataframe thead th {\n",
       "        text-align: right;\n",
       "    }\n",
       "</style>\n",
       "<table border=\"1\" class=\"dataframe\">\n",
       "  <thead>\n",
       "    <tr style=\"text-align: right;\">\n",
       "      <th></th>\n",
       "      <th>count</th>\n",
       "      <th>mean</th>\n",
       "      <th>std</th>\n",
       "      <th>min</th>\n",
       "      <th>25%</th>\n",
       "      <th>50%</th>\n",
       "      <th>75%</th>\n",
       "      <th>max</th>\n",
       "    </tr>\n",
       "  </thead>\n",
       "  <tbody>\n",
       "    <tr>\n",
       "      <th>localization_y</th>\n",
       "      <td>9254.0</td>\n",
       "      <td>51.956458</td>\n",
       "      <td>1.349855e+00</td>\n",
       "      <td>49.199733</td>\n",
       "      <td>50.859126</td>\n",
       "      <td>52.104515</td>\n",
       "      <td>52.538292</td>\n",
       "      <td>5.483128e+01</td>\n",
       "    </tr>\n",
       "    <tr>\n",
       "      <th>localization_x</th>\n",
       "      <td>9517.0</td>\n",
       "      <td>19.508127</td>\n",
       "      <td>2.042161e+00</td>\n",
       "      <td>14.338056</td>\n",
       "      <td>18.224700</td>\n",
       "      <td>19.991800</td>\n",
       "      <td>20.933180</td>\n",
       "      <td>2.386770e+01</td>\n",
       "    </tr>\n",
       "    <tr>\n",
       "      <th>area</th>\n",
       "      <td>9638.0</td>\n",
       "      <td>3923.823843</td>\n",
       "      <td>1.856166e+04</td>\n",
       "      <td>2.860000</td>\n",
       "      <td>1060.000000</td>\n",
       "      <td>1531.500000</td>\n",
       "      <td>3000.000000</td>\n",
       "      <td>1.515395e+06</td>\n",
       "    </tr>\n",
       "    <tr>\n",
       "      <th>price</th>\n",
       "      <td>9656.0</td>\n",
       "      <td>611287.909652</td>\n",
       "      <td>1.729530e+06</td>\n",
       "      <td>0.100000</td>\n",
       "      <td>115000.000000</td>\n",
       "      <td>215000.000000</td>\n",
       "      <td>499000.000000</td>\n",
       "      <td>6.000000e+07</td>\n",
       "    </tr>\n",
       "  </tbody>\n",
       "</table>\n",
       "</div>"
      ],
      "text/plain": [
       "                 count           mean           std        min            25%  \\\n",
       "localization_y  9254.0      51.956458  1.349855e+00  49.199733      50.859126   \n",
       "localization_x  9517.0      19.508127  2.042161e+00  14.338056      18.224700   \n",
       "area            9638.0    3923.823843  1.856166e+04   2.860000    1060.000000   \n",
       "price           9656.0  611287.909652  1.729530e+06   0.100000  115000.000000   \n",
       "\n",
       "                          50%            75%           max  \n",
       "localization_y      52.104515      52.538292  5.483128e+01  \n",
       "localization_x      19.991800      20.933180  2.386770e+01  \n",
       "area              1531.500000    3000.000000  1.515395e+06  \n",
       "price           215000.000000  499000.000000  6.000000e+07  "
      ]
     },
     "execution_count": 5,
     "metadata": {},
     "output_type": "execute_result"
    }
   ],
   "source": [
    "frame.describe().transpose()"
   ]
  },
  {
   "cell_type": "code",
   "execution_count": 6,
   "metadata": {},
   "outputs": [
    {
     "data": {
      "text/plain": [
       "array(['łódzkie', 'śląskie', 'warmińsko-mazurskie', 'mazowieckie',\n",
       "       'wielkopolskie', nan, 'świętokrzyskie', 'małopolskie', 'podlaskie',\n",
       "       'pomorskie', 'dolnośląskie', 'lubuskie', 'zachodniopomorskie',\n",
       "       'kujawsko-pomorskie', 'opolskie', 'lubelskie', 'podkarpackie'],\n",
       "      dtype=object)"
      ]
     },
     "execution_count": 6,
     "metadata": {},
     "output_type": "execute_result"
    }
   ],
   "source": [
    "frame['voivodeship'].unique()"
   ]
  },
  {
   "cell_type": "code",
   "execution_count": 7,
   "metadata": {},
   "outputs": [
    {
     "data": {
      "text/plain": [
       "16"
      ]
     },
     "execution_count": 7,
     "metadata": {},
     "output_type": "execute_result"
    }
   ],
   "source": [
    "frame['voivodeship'].nunique()"
   ]
  },
  {
   "cell_type": "code",
   "execution_count": 8,
   "metadata": {},
   "outputs": [
    {
     "data": {
      "text/plain": [
       "voivodeship\n",
       "dolnośląskie           [50.861522631475, 51.188311999999996, 50.30886...\n",
       "kujawsko-pomorskie     [52.880058, 53.049290908785, 53.197236, 52.865...\n",
       "lubelskie              [51.20782, 51.322658000000004, 51.241414, 51.2...\n",
       "lubuskie               [nan, 51.9489824, 51.9160209, 52.0196, 51.9429...\n",
       "mazowieckie            [52.093999999999994, 52.0658, 52.393966, 52.09...\n",
       "małopolskie            [49.837137, 49.958790894654996, 49.730845, 49....\n",
       "opolskie               [50.352351, 50.8337256, 50.624472600000004, 50...\n",
       "podkarpackie           [49.201988, 49.694649, 49.199733, 49.8615, 50....\n",
       "podlaskie              [53.111726000000004, 54.20208100000001, 53.014...\n",
       "pomorskie              [53.7330509797264, 54.4808781977701, 54.181109...\n",
       "warmińsko-mazurskie    [53.7235, nan, 53.718888186202, 53.0, 53.1848,...\n",
       "wielkopolskie          [nan, 53.149289700059, 52.625842000000006, 52....\n",
       "zachodniopomorskie     [53.335570999999995, 54.0495762918714, 54.5110...\n",
       "łódzkie                [51.835925, 51.80133, 51.766153, 51.764697, 51...\n",
       "śląskie                [50.472433, 49.70534015643379, 49.984503124001...\n",
       "świętokrzyskie         [50.470859999999995, 51.117890087685005, 50.84...\n",
       "Name: localization_y, dtype: object"
      ]
     },
     "execution_count": 8,
     "metadata": {},
     "output_type": "execute_result"
    }
   ],
   "source": [
    "frame.groupby('voivodeship')['localization_y'].unique()"
   ]
  },
  {
   "cell_type": "code",
   "execution_count": 9,
   "metadata": {},
   "outputs": [
    {
     "data": {
      "text/plain": [
       "voivodeship\n",
       "dolnośląskie            321\n",
       "kujawsko-pomorskie      184\n",
       "lubelskie               107\n",
       "lubuskie                 33\n",
       "mazowieckie            1176\n",
       "małopolskie             500\n",
       "opolskie                 38\n",
       "podkarpackie            165\n",
       "podlaskie                96\n",
       "pomorskie               484\n",
       "warmińsko-mazurskie     140\n",
       "wielkopolskie           344\n",
       "zachodniopomorskie      208\n",
       "łódzkie                 163\n",
       "śląskie                 388\n",
       "świętokrzyskie           66\n",
       "Name: localization_y, dtype: int64"
      ]
     },
     "execution_count": 9,
     "metadata": {},
     "output_type": "execute_result"
    }
   ],
   "source": [
    "frame.groupby('voivodeship')['localization_y'].nunique()"
   ]
  },
  {
   "cell_type": "code",
   "execution_count": 10,
   "metadata": {},
   "outputs": [],
   "source": [
    "frame = frame.drop_duplicates()"
   ]
  },
  {
   "cell_type": "code",
   "execution_count": 11,
   "metadata": {},
   "outputs": [
    {
     "name": "stdout",
     "output_type": "stream",
     "text": [
      "<class 'pandas.core.frame.DataFrame'>\n",
      "Int64Index: 8091 entries, 0 to 9936\n",
      "Data columns (total 14 columns):\n",
      " #   Column          Non-Null Count  Dtype  \n",
      "---  ------          --------------  -----  \n",
      " 0   city            7982 non-null   object \n",
      " 1   district        7976 non-null   object \n",
      " 2   voivodeship     7551 non-null   object \n",
      " 3   localization_y  7645 non-null   float64\n",
      " 4   localization_x  7753 non-null   float64\n",
      " 5   area            7964 non-null   float64\n",
      " 6   sewers          1534 non-null   object \n",
      " 7   shape           1784 non-null   object \n",
      " 8   road            4292 non-null   object \n",
      " 9   fence           4412 non-null   object \n",
      " 10  water           235 non-null    object \n",
      " 11  electricity     143 non-null    object \n",
      " 12  gas             471 non-null    object \n",
      " 13  price           7982 non-null   float64\n",
      "dtypes: float64(4), object(10)\n",
      "memory usage: 948.2+ KB\n"
     ]
    }
   ],
   "source": [
    "frame.info()"
   ]
  },
  {
   "cell_type": "code",
   "execution_count": 12,
   "metadata": {},
   "outputs": [],
   "source": [
    "frame.drop(frame[pd.isnull(frame['city'])].index, inplace = True)"
   ]
  },
  {
   "cell_type": "code",
   "execution_count": 13,
   "metadata": {},
   "outputs": [
    {
     "name": "stdout",
     "output_type": "stream",
     "text": [
      "<class 'pandas.core.frame.DataFrame'>\n",
      "Int64Index: 7982 entries, 0 to 9936\n",
      "Data columns (total 14 columns):\n",
      " #   Column          Non-Null Count  Dtype  \n",
      "---  ------          --------------  -----  \n",
      " 0   city            7982 non-null   object \n",
      " 1   district        7976 non-null   object \n",
      " 2   voivodeship     7551 non-null   object \n",
      " 3   localization_y  7645 non-null   float64\n",
      " 4   localization_x  7645 non-null   float64\n",
      " 5   area            7964 non-null   float64\n",
      " 6   sewers          1534 non-null   object \n",
      " 7   shape           1784 non-null   object \n",
      " 8   road            4292 non-null   object \n",
      " 9   fence           4412 non-null   object \n",
      " 10  water           235 non-null    object \n",
      " 11  electricity     143 non-null    object \n",
      " 12  gas             471 non-null    object \n",
      " 13  price           7982 non-null   float64\n",
      "dtypes: float64(4), object(10)\n",
      "memory usage: 935.4+ KB\n"
     ]
    }
   ],
   "source": [
    "frame.info()"
   ]
  },
  {
   "cell_type": "code",
   "execution_count": 14,
   "metadata": {},
   "outputs": [],
   "source": [
    "frame['counter'] = frame.index"
   ]
  },
  {
   "cell_type": "code",
   "execution_count": 15,
   "metadata": {},
   "outputs": [
    {
     "data": {
      "text/html": [
       "<div>\n",
       "<style scoped>\n",
       "    .dataframe tbody tr th:only-of-type {\n",
       "        vertical-align: middle;\n",
       "    }\n",
       "\n",
       "    .dataframe tbody tr th {\n",
       "        vertical-align: top;\n",
       "    }\n",
       "\n",
       "    .dataframe thead th {\n",
       "        text-align: right;\n",
       "    }\n",
       "</style>\n",
       "<table border=\"1\" class=\"dataframe\">\n",
       "  <thead>\n",
       "    <tr style=\"text-align: right;\">\n",
       "      <th></th>\n",
       "      <th>city</th>\n",
       "      <th>district</th>\n",
       "      <th>voivodeship</th>\n",
       "      <th>localization_y</th>\n",
       "      <th>localization_x</th>\n",
       "      <th>area</th>\n",
       "      <th>shape</th>\n",
       "      <th>road</th>\n",
       "      <th>fence</th>\n",
       "      <th>water</th>\n",
       "      <th>electricity</th>\n",
       "      <th>gas</th>\n",
       "      <th>price</th>\n",
       "      <th>counter</th>\n",
       "    </tr>\n",
       "    <tr>\n",
       "      <th>sewers</th>\n",
       "      <th></th>\n",
       "      <th></th>\n",
       "      <th></th>\n",
       "      <th></th>\n",
       "      <th></th>\n",
       "      <th></th>\n",
       "      <th></th>\n",
       "      <th></th>\n",
       "      <th></th>\n",
       "      <th></th>\n",
       "      <th></th>\n",
       "      <th></th>\n",
       "      <th></th>\n",
       "      <th></th>\n",
       "    </tr>\n",
       "  </thead>\n",
       "  <tbody>\n",
       "    <tr>\n",
       "      <th>brak</th>\n",
       "      <td>347</td>\n",
       "      <td>146</td>\n",
       "      <td>15</td>\n",
       "      <td>375</td>\n",
       "      <td>376</td>\n",
       "      <td>329</td>\n",
       "      <td>4</td>\n",
       "      <td>4</td>\n",
       "      <td>7</td>\n",
       "      <td>4</td>\n",
       "      <td>3</td>\n",
       "      <td>3</td>\n",
       "      <td>273</td>\n",
       "      <td>436</td>\n",
       "    </tr>\n",
       "    <tr>\n",
       "      <th>inne</th>\n",
       "      <td>3</td>\n",
       "      <td>3</td>\n",
       "      <td>3</td>\n",
       "      <td>3</td>\n",
       "      <td>3</td>\n",
       "      <td>3</td>\n",
       "      <td>3</td>\n",
       "      <td>2</td>\n",
       "      <td>3</td>\n",
       "      <td>2</td>\n",
       "      <td>2</td>\n",
       "      <td>2</td>\n",
       "      <td>3</td>\n",
       "      <td>3</td>\n",
       "    </tr>\n",
       "    <tr>\n",
       "      <th>miejska</th>\n",
       "      <td>470</td>\n",
       "      <td>236</td>\n",
       "      <td>16</td>\n",
       "      <td>613</td>\n",
       "      <td>612</td>\n",
       "      <td>551</td>\n",
       "      <td>4</td>\n",
       "      <td>4</td>\n",
       "      <td>8</td>\n",
       "      <td>3</td>\n",
       "      <td>2</td>\n",
       "      <td>3</td>\n",
       "      <td>439</td>\n",
       "      <td>821</td>\n",
       "    </tr>\n",
       "    <tr>\n",
       "      <th>przydomowa oczyszczalnia ścieków</th>\n",
       "      <td>23</td>\n",
       "      <td>17</td>\n",
       "      <td>8</td>\n",
       "      <td>24</td>\n",
       "      <td>24</td>\n",
       "      <td>22</td>\n",
       "      <td>1</td>\n",
       "      <td>3</td>\n",
       "      <td>3</td>\n",
       "      <td>2</td>\n",
       "      <td>1</td>\n",
       "      <td>1</td>\n",
       "      <td>23</td>\n",
       "      <td>25</td>\n",
       "    </tr>\n",
       "    <tr>\n",
       "      <th>studnia</th>\n",
       "      <td>1</td>\n",
       "      <td>1</td>\n",
       "      <td>1</td>\n",
       "      <td>1</td>\n",
       "      <td>1</td>\n",
       "      <td>1</td>\n",
       "      <td>1</td>\n",
       "      <td>1</td>\n",
       "      <td>1</td>\n",
       "      <td>1</td>\n",
       "      <td>1</td>\n",
       "      <td>1</td>\n",
       "      <td>1</td>\n",
       "      <td>1</td>\n",
       "    </tr>\n",
       "    <tr>\n",
       "      <th>szambo</th>\n",
       "      <td>182</td>\n",
       "      <td>86</td>\n",
       "      <td>13</td>\n",
       "      <td>215</td>\n",
       "      <td>215</td>\n",
       "      <td>185</td>\n",
       "      <td>3</td>\n",
       "      <td>3</td>\n",
       "      <td>7</td>\n",
       "      <td>4</td>\n",
       "      <td>3</td>\n",
       "      <td>3</td>\n",
       "      <td>175</td>\n",
       "      <td>248</td>\n",
       "    </tr>\n",
       "  </tbody>\n",
       "</table>\n",
       "</div>"
      ],
      "text/plain": [
       "                                  city  district  voivodeship  localization_y  \\\n",
       "sewers                                                                          \n",
       "brak                               347       146           15             375   \n",
       "inne                                 3         3            3               3   \n",
       "miejska                            470       236           16             613   \n",
       "przydomowa oczyszczalnia ścieków    23        17            8              24   \n",
       "studnia                              1         1            1               1   \n",
       "szambo                             182        86           13             215   \n",
       "\n",
       "                                  localization_x  area  shape  road  fence  \\\n",
       "sewers                                                                       \n",
       "brak                                         376   329      4     4      7   \n",
       "inne                                           3     3      3     2      3   \n",
       "miejska                                      612   551      4     4      8   \n",
       "przydomowa oczyszczalnia ścieków              24    22      1     3      3   \n",
       "studnia                                        1     1      1     1      1   \n",
       "szambo                                       215   185      3     3      7   \n",
       "\n",
       "                                  water  electricity  gas  price  counter  \n",
       "sewers                                                                     \n",
       "brak                                  4            3    3    273      436  \n",
       "inne                                  2            2    2      3        3  \n",
       "miejska                               3            2    3    439      821  \n",
       "przydomowa oczyszczalnia ścieków      2            1    1     23       25  \n",
       "studnia                               1            1    1      1        1  \n",
       "szambo                                4            3    3    175      248  "
      ]
     },
     "execution_count": 15,
     "metadata": {},
     "output_type": "execute_result"
    }
   ],
   "source": [
    "frame.groupby('sewers').nunique()"
   ]
  },
  {
   "cell_type": "code",
   "execution_count": 16,
   "metadata": {},
   "outputs": [
    {
     "data": {
      "text/plain": [
       "sewers\n",
       "brak                                436\n",
       "inne                                  3\n",
       "miejska                             821\n",
       "przydomowa oczyszczalnia ścieków     25\n",
       "studnia                               1\n",
       "szambo                              248\n",
       "Name: counter, dtype: int64"
      ]
     },
     "execution_count": 16,
     "metadata": {},
     "output_type": "execute_result"
    }
   ],
   "source": [
    "frame.groupby('sewers')['counter'].nunique()"
   ]
  },
  {
   "cell_type": "code",
   "execution_count": 17,
   "metadata": {},
   "outputs": [],
   "source": [
    "frame['sewers'].replace(['inne','studnia'],'brak', inplace=True)"
   ]
  },
  {
   "cell_type": "code",
   "execution_count": 18,
   "metadata": {},
   "outputs": [],
   "source": [
    "frame['sewers'].fillna('brak', inplace=True)"
   ]
  },
  {
   "cell_type": "code",
   "execution_count": 19,
   "metadata": {},
   "outputs": [
    {
     "data": {
      "text/plain": [
       "shape\n",
       "inny           76\n",
       "kwadrat       134\n",
       "prostokąt    1401\n",
       "trapez        152\n",
       "trójkąt        21\n",
       "Name: counter, dtype: int64"
      ]
     },
     "execution_count": 19,
     "metadata": {},
     "output_type": "execute_result"
    }
   ],
   "source": [
    "frame.groupby('shape')['counter'].nunique()"
   ]
  },
  {
   "cell_type": "code",
   "execution_count": 20,
   "metadata": {},
   "outputs": [],
   "source": [
    "frame.drop('shape', axis=1, inplace=True)"
   ]
  },
  {
   "cell_type": "code",
   "execution_count": 21,
   "metadata": {},
   "outputs": [
    {
     "data": {
      "text/plain": [
       "road\n",
       "asfaltowa         2243\n",
       "kostka brukowa       9\n",
       "polna              155\n",
       "utwardzana        1885\n",
       "Name: counter, dtype: int64"
      ]
     },
     "execution_count": 21,
     "metadata": {},
     "output_type": "execute_result"
    }
   ],
   "source": [
    "frame.groupby('road')['counter'].nunique()"
   ]
  },
  {
   "cell_type": "code",
   "execution_count": 22,
   "metadata": {},
   "outputs": [],
   "source": [
    "frame['road'].fillna('polna', inplace=True)"
   ]
  },
  {
   "cell_type": "code",
   "execution_count": 23,
   "metadata": {},
   "outputs": [
    {
     "data": {
      "text/plain": [
       "fence\n",
       "betonowe       18\n",
       "brak         3633\n",
       "drewniane      22\n",
       "inne          128\n",
       "metalowe       60\n",
       "mieszane       54\n",
       "murowane       12\n",
       "siatka        481\n",
       "żywopłot        4\n",
       "Name: counter, dtype: int64"
      ]
     },
     "execution_count": 23,
     "metadata": {},
     "output_type": "execute_result"
    }
   ],
   "source": [
    "frame.groupby('fence')['counter'].nunique()"
   ]
  },
  {
   "cell_type": "code",
   "execution_count": 24,
   "metadata": {},
   "outputs": [],
   "source": [
    "frame['fence'].fillna('brak', inplace=True)"
   ]
  },
  {
   "cell_type": "code",
   "execution_count": 25,
   "metadata": {},
   "outputs": [
    {
     "data": {
      "text/plain": [
       "water\n",
       "brak                     32\n",
       "wodociąg na działce      36\n",
       "wodociąg w drodze        87\n",
       "własne ujęcie/studnia    80\n",
       "Name: counter, dtype: int64"
      ]
     },
     "execution_count": 25,
     "metadata": {},
     "output_type": "execute_result"
    }
   ],
   "source": [
    "frame.groupby('water')['counter'].nunique()"
   ]
  },
  {
   "cell_type": "code",
   "execution_count": 26,
   "metadata": {},
   "outputs": [],
   "source": [
    "frame['water'].fillna('brak', inplace=True)"
   ]
  },
  {
   "cell_type": "code",
   "execution_count": 27,
   "metadata": {},
   "outputs": [
    {
     "data": {
      "text/plain": [
       "electricity\n",
       "brak           4\n",
       "na działce    65\n",
       "w drodze      74\n",
       "Name: counter, dtype: int64"
      ]
     },
     "execution_count": 27,
     "metadata": {},
     "output_type": "execute_result"
    }
   ],
   "source": [
    "frame.groupby('electricity')['counter'].nunique()"
   ]
  },
  {
   "cell_type": "code",
   "execution_count": 28,
   "metadata": {},
   "outputs": [],
   "source": [
    "frame['electricity'].fillna('brak', inplace=True)"
   ]
  },
  {
   "cell_type": "code",
   "execution_count": 29,
   "metadata": {},
   "outputs": [
    {
     "data": {
      "text/plain": [
       "gas\n",
       "brak          400\n",
       "na działce     18\n",
       "w drodze       53\n",
       "Name: counter, dtype: int64"
      ]
     },
     "execution_count": 29,
     "metadata": {},
     "output_type": "execute_result"
    }
   ],
   "source": [
    "frame.groupby('gas')['counter'].nunique()"
   ]
  },
  {
   "cell_type": "code",
   "execution_count": 30,
   "metadata": {},
   "outputs": [],
   "source": [
    "frame['gas'].fillna('brak', inplace=True)"
   ]
  },
  {
   "cell_type": "code",
   "execution_count": 31,
   "metadata": {},
   "outputs": [],
   "source": [
    "frame.dropna(subset=['localization_y','area'], inplace=True)"
   ]
  },
  {
   "cell_type": "code",
   "execution_count": 32,
   "metadata": {},
   "outputs": [],
   "source": [
    "frame.drop(['city','district','voivodeship','counter'], axis=1, inplace=True)"
   ]
  },
  {
   "cell_type": "code",
   "execution_count": 33,
   "metadata": {},
   "outputs": [
    {
     "name": "stdout",
     "output_type": "stream",
     "text": [
      "<class 'pandas.core.frame.DataFrame'>\n",
      "Int64Index: 7629 entries, 0 to 9936\n",
      "Data columns (total 10 columns):\n",
      " #   Column          Non-Null Count  Dtype  \n",
      "---  ------          --------------  -----  \n",
      " 0   localization_y  7629 non-null   float64\n",
      " 1   localization_x  7629 non-null   float64\n",
      " 2   area            7629 non-null   float64\n",
      " 3   sewers          7629 non-null   object \n",
      " 4   road            7629 non-null   object \n",
      " 5   fence           7629 non-null   object \n",
      " 6   water           7629 non-null   object \n",
      " 7   electricity     7629 non-null   object \n",
      " 8   gas             7629 non-null   object \n",
      " 9   price           7629 non-null   float64\n",
      "dtypes: float64(4), object(6)\n",
      "memory usage: 655.6+ KB\n"
     ]
    }
   ],
   "source": [
    "frame.info()"
   ]
  },
  {
   "cell_type": "code",
   "execution_count": 35,
   "metadata": {},
   "outputs": [],
   "source": [
    "frame.reset_index(drop=True, inplace=True)"
   ]
  },
  {
   "cell_type": "code",
   "execution_count": 36,
   "metadata": {},
   "outputs": [
    {
     "data": {
      "text/html": [
       "<div>\n",
       "<style scoped>\n",
       "    .dataframe tbody tr th:only-of-type {\n",
       "        vertical-align: middle;\n",
       "    }\n",
       "\n",
       "    .dataframe tbody tr th {\n",
       "        vertical-align: top;\n",
       "    }\n",
       "\n",
       "    .dataframe thead th {\n",
       "        text-align: right;\n",
       "    }\n",
       "</style>\n",
       "<table border=\"1\" class=\"dataframe\">\n",
       "  <thead>\n",
       "    <tr style=\"text-align: right;\">\n",
       "      <th></th>\n",
       "      <th>localization_y</th>\n",
       "      <th>localization_x</th>\n",
       "      <th>area</th>\n",
       "      <th>sewers</th>\n",
       "      <th>road</th>\n",
       "      <th>fence</th>\n",
       "      <th>water</th>\n",
       "      <th>electricity</th>\n",
       "      <th>gas</th>\n",
       "      <th>price</th>\n",
       "    </tr>\n",
       "  </thead>\n",
       "  <tbody>\n",
       "    <tr>\n",
       "      <th>0</th>\n",
       "      <td>51.835925</td>\n",
       "      <td>19.193010</td>\n",
       "      <td>1004.0</td>\n",
       "      <td>brak</td>\n",
       "      <td>utwardzana</td>\n",
       "      <td>brak</td>\n",
       "      <td>wodociąg w drodze</td>\n",
       "      <td>w drodze</td>\n",
       "      <td>brak</td>\n",
       "      <td>90360.0</td>\n",
       "    </tr>\n",
       "    <tr>\n",
       "      <th>1</th>\n",
       "      <td>50.472433</td>\n",
       "      <td>19.233789</td>\n",
       "      <td>18.0</td>\n",
       "      <td>szambo</td>\n",
       "      <td>asfaltowa</td>\n",
       "      <td>żywopłot</td>\n",
       "      <td>wodociąg na działce</td>\n",
       "      <td>na działce</td>\n",
       "      <td>brak</td>\n",
       "      <td>229000.0</td>\n",
       "    </tr>\n",
       "    <tr>\n",
       "      <th>2</th>\n",
       "      <td>51.801330</td>\n",
       "      <td>19.189772</td>\n",
       "      <td>1200.0</td>\n",
       "      <td>brak</td>\n",
       "      <td>utwardzana</td>\n",
       "      <td>brak</td>\n",
       "      <td>brak</td>\n",
       "      <td>brak</td>\n",
       "      <td>brak</td>\n",
       "      <td>84000.0</td>\n",
       "    </tr>\n",
       "    <tr>\n",
       "      <th>3</th>\n",
       "      <td>53.723500</td>\n",
       "      <td>20.867400</td>\n",
       "      <td>1262.0</td>\n",
       "      <td>brak</td>\n",
       "      <td>utwardzana</td>\n",
       "      <td>brak</td>\n",
       "      <td>własne ujęcie/studnia</td>\n",
       "      <td>brak</td>\n",
       "      <td>brak</td>\n",
       "      <td>88340.0</td>\n",
       "    </tr>\n",
       "    <tr>\n",
       "      <th>4</th>\n",
       "      <td>52.094000</td>\n",
       "      <td>20.807400</td>\n",
       "      <td>950.0</td>\n",
       "      <td>brak</td>\n",
       "      <td>utwardzana</td>\n",
       "      <td>brak</td>\n",
       "      <td>brak</td>\n",
       "      <td>brak</td>\n",
       "      <td>brak</td>\n",
       "      <td>295000.0</td>\n",
       "    </tr>\n",
       "    <tr>\n",
       "      <th>...</th>\n",
       "      <td>...</td>\n",
       "      <td>...</td>\n",
       "      <td>...</td>\n",
       "      <td>...</td>\n",
       "      <td>...</td>\n",
       "      <td>...</td>\n",
       "      <td>...</td>\n",
       "      <td>...</td>\n",
       "      <td>...</td>\n",
       "      <td>...</td>\n",
       "    </tr>\n",
       "    <tr>\n",
       "      <th>7624</th>\n",
       "      <td>49.939618</td>\n",
       "      <td>19.889479</td>\n",
       "      <td>2000.0</td>\n",
       "      <td>brak</td>\n",
       "      <td>polna</td>\n",
       "      <td>brak</td>\n",
       "      <td>brak</td>\n",
       "      <td>brak</td>\n",
       "      <td>brak</td>\n",
       "      <td>360000.0</td>\n",
       "    </tr>\n",
       "    <tr>\n",
       "      <th>7625</th>\n",
       "      <td>49.907755</td>\n",
       "      <td>20.200424</td>\n",
       "      <td>35.2</td>\n",
       "      <td>brak</td>\n",
       "      <td>polna</td>\n",
       "      <td>brak</td>\n",
       "      <td>brak</td>\n",
       "      <td>brak</td>\n",
       "      <td>brak</td>\n",
       "      <td>315000.0</td>\n",
       "    </tr>\n",
       "    <tr>\n",
       "      <th>7626</th>\n",
       "      <td>50.026720</td>\n",
       "      <td>19.700051</td>\n",
       "      <td>4400.0</td>\n",
       "      <td>szambo</td>\n",
       "      <td>polna</td>\n",
       "      <td>brak</td>\n",
       "      <td>brak</td>\n",
       "      <td>brak</td>\n",
       "      <td>brak</td>\n",
       "      <td>160000.0</td>\n",
       "    </tr>\n",
       "    <tr>\n",
       "      <th>7627</th>\n",
       "      <td>49.987773</td>\n",
       "      <td>19.679529</td>\n",
       "      <td>4400.0</td>\n",
       "      <td>brak</td>\n",
       "      <td>polna</td>\n",
       "      <td>brak</td>\n",
       "      <td>brak</td>\n",
       "      <td>brak</td>\n",
       "      <td>brak</td>\n",
       "      <td>440000.0</td>\n",
       "    </tr>\n",
       "    <tr>\n",
       "      <th>7628</th>\n",
       "      <td>49.987773</td>\n",
       "      <td>19.679529</td>\n",
       "      <td>2200.0</td>\n",
       "      <td>brak</td>\n",
       "      <td>polna</td>\n",
       "      <td>brak</td>\n",
       "      <td>brak</td>\n",
       "      <td>brak</td>\n",
       "      <td>brak</td>\n",
       "      <td>220000.0</td>\n",
       "    </tr>\n",
       "  </tbody>\n",
       "</table>\n",
       "<p>7629 rows × 10 columns</p>\n",
       "</div>"
      ],
      "text/plain": [
       "      localization_y  localization_x    area  sewers        road     fence  \\\n",
       "0          51.835925       19.193010  1004.0    brak  utwardzana      brak   \n",
       "1          50.472433       19.233789    18.0  szambo   asfaltowa  żywopłot   \n",
       "2          51.801330       19.189772  1200.0    brak  utwardzana      brak   \n",
       "3          53.723500       20.867400  1262.0    brak  utwardzana      brak   \n",
       "4          52.094000       20.807400   950.0    brak  utwardzana      brak   \n",
       "...              ...             ...     ...     ...         ...       ...   \n",
       "7624       49.939618       19.889479  2000.0    brak       polna      brak   \n",
       "7625       49.907755       20.200424    35.2    brak       polna      brak   \n",
       "7626       50.026720       19.700051  4400.0  szambo       polna      brak   \n",
       "7627       49.987773       19.679529  4400.0    brak       polna      brak   \n",
       "7628       49.987773       19.679529  2200.0    brak       polna      brak   \n",
       "\n",
       "                      water electricity   gas     price  \n",
       "0         wodociąg w drodze    w drodze  brak   90360.0  \n",
       "1       wodociąg na działce  na działce  brak  229000.0  \n",
       "2                      brak        brak  brak   84000.0  \n",
       "3     własne ujęcie/studnia        brak  brak   88340.0  \n",
       "4                      brak        brak  brak  295000.0  \n",
       "...                     ...         ...   ...       ...  \n",
       "7624                   brak        brak  brak  360000.0  \n",
       "7625                   brak        brak  brak  315000.0  \n",
       "7626                   brak        brak  brak  160000.0  \n",
       "7627                   brak        brak  brak  440000.0  \n",
       "7628                   brak        brak  brak  220000.0  \n",
       "\n",
       "[7629 rows x 10 columns]"
      ]
     },
     "execution_count": 36,
     "metadata": {},
     "output_type": "execute_result"
    }
   ],
   "source": [
    "frame"
   ]
  },
  {
   "cell_type": "code",
   "execution_count": 37,
   "metadata": {},
   "outputs": [
    {
     "name": "stdout",
     "output_type": "stream",
     "text": [
      "<class 'pandas.core.frame.DataFrame'>\n",
      "RangeIndex: 7629 entries, 0 to 7628\n",
      "Data columns (total 10 columns):\n",
      " #   Column          Non-Null Count  Dtype  \n",
      "---  ------          --------------  -----  \n",
      " 0   localization_y  7629 non-null   float64\n",
      " 1   localization_x  7629 non-null   float64\n",
      " 2   area            7629 non-null   float64\n",
      " 3   sewers          7629 non-null   object \n",
      " 4   road            7629 non-null   object \n",
      " 5   fence           7629 non-null   object \n",
      " 6   water           7629 non-null   object \n",
      " 7   electricity     7629 non-null   object \n",
      " 8   gas             7629 non-null   object \n",
      " 9   price           7629 non-null   float64\n",
      "dtypes: float64(4), object(6)\n",
      "memory usage: 596.1+ KB\n"
     ]
    }
   ],
   "source": [
    "frame.info()"
   ]
  },
  {
   "cell_type": "code",
   "execution_count": 40,
   "metadata": {},
   "outputs": [],
   "source": [
    "outfile = open('real_estate_data_frame','wb')\n",
    "pkl.dump(frame,outfile)\n",
    "outfile.close()"
   ]
  }
 ],
 "metadata": {
  "kernelspec": {
   "display_name": "Python 3",
   "language": "python",
   "name": "python3"
  },
  "language_info": {
   "codemirror_mode": {
    "name": "ipython",
    "version": 3
   },
   "file_extension": ".py",
   "mimetype": "text/x-python",
   "name": "python",
   "nbconvert_exporter": "python",
   "pygments_lexer": "ipython3",
   "version": "3.8.5"
  }
 },
 "nbformat": 4,
 "nbformat_minor": 4
}
