{
 "cells": [
  {
   "cell_type": "code",
   "execution_count": 7,
   "metadata": {},
   "outputs": [],
   "source": [
    "import pickle as pkl\n",
    "import pandas as pd"
   ]
  },
  {
   "cell_type": "code",
   "execution_count": 2,
   "metadata": {},
   "outputs": [],
   "source": [
    "infile = open('real_estate_data_frame','rb')\n",
    "frame = pkl.load(infile)\n",
    "infile.close()"
   ]
  },
  {
   "cell_type": "code",
   "execution_count": 3,
   "metadata": {},
   "outputs": [
    {
     "data": {
      "text/html": [
       "<div>\n",
       "<style scoped>\n",
       "    .dataframe tbody tr th:only-of-type {\n",
       "        vertical-align: middle;\n",
       "    }\n",
       "\n",
       "    .dataframe tbody tr th {\n",
       "        vertical-align: top;\n",
       "    }\n",
       "\n",
       "    .dataframe thead th {\n",
       "        text-align: right;\n",
       "    }\n",
       "</style>\n",
       "<table border=\"1\" class=\"dataframe\">\n",
       "  <thead>\n",
       "    <tr style=\"text-align: right;\">\n",
       "      <th></th>\n",
       "      <th>localization_y</th>\n",
       "      <th>localization_x</th>\n",
       "      <th>area</th>\n",
       "      <th>sewers</th>\n",
       "      <th>road</th>\n",
       "      <th>fence</th>\n",
       "      <th>water</th>\n",
       "      <th>electricity</th>\n",
       "      <th>gas</th>\n",
       "      <th>price</th>\n",
       "    </tr>\n",
       "  </thead>\n",
       "  <tbody>\n",
       "    <tr>\n",
       "      <th>0</th>\n",
       "      <td>51.835925</td>\n",
       "      <td>19.193010</td>\n",
       "      <td>1004.0</td>\n",
       "      <td>brak</td>\n",
       "      <td>utwardzana</td>\n",
       "      <td>brak</td>\n",
       "      <td>wodociąg w drodze</td>\n",
       "      <td>w drodze</td>\n",
       "      <td>brak</td>\n",
       "      <td>90360.0</td>\n",
       "    </tr>\n",
       "    <tr>\n",
       "      <th>1</th>\n",
       "      <td>50.472433</td>\n",
       "      <td>19.233789</td>\n",
       "      <td>18.0</td>\n",
       "      <td>szambo</td>\n",
       "      <td>asfaltowa</td>\n",
       "      <td>żywopłot</td>\n",
       "      <td>wodociąg na działce</td>\n",
       "      <td>na działce</td>\n",
       "      <td>brak</td>\n",
       "      <td>229000.0</td>\n",
       "    </tr>\n",
       "    <tr>\n",
       "      <th>2</th>\n",
       "      <td>51.801330</td>\n",
       "      <td>19.189772</td>\n",
       "      <td>1200.0</td>\n",
       "      <td>brak</td>\n",
       "      <td>utwardzana</td>\n",
       "      <td>brak</td>\n",
       "      <td>brak</td>\n",
       "      <td>brak</td>\n",
       "      <td>brak</td>\n",
       "      <td>84000.0</td>\n",
       "    </tr>\n",
       "    <tr>\n",
       "      <th>3</th>\n",
       "      <td>53.723500</td>\n",
       "      <td>20.867400</td>\n",
       "      <td>1262.0</td>\n",
       "      <td>brak</td>\n",
       "      <td>utwardzana</td>\n",
       "      <td>brak</td>\n",
       "      <td>własne ujęcie/studnia</td>\n",
       "      <td>brak</td>\n",
       "      <td>brak</td>\n",
       "      <td>88340.0</td>\n",
       "    </tr>\n",
       "    <tr>\n",
       "      <th>4</th>\n",
       "      <td>52.094000</td>\n",
       "      <td>20.807400</td>\n",
       "      <td>950.0</td>\n",
       "      <td>brak</td>\n",
       "      <td>utwardzana</td>\n",
       "      <td>brak</td>\n",
       "      <td>brak</td>\n",
       "      <td>brak</td>\n",
       "      <td>brak</td>\n",
       "      <td>295000.0</td>\n",
       "    </tr>\n",
       "    <tr>\n",
       "      <th>...</th>\n",
       "      <td>...</td>\n",
       "      <td>...</td>\n",
       "      <td>...</td>\n",
       "      <td>...</td>\n",
       "      <td>...</td>\n",
       "      <td>...</td>\n",
       "      <td>...</td>\n",
       "      <td>...</td>\n",
       "      <td>...</td>\n",
       "      <td>...</td>\n",
       "    </tr>\n",
       "    <tr>\n",
       "      <th>7624</th>\n",
       "      <td>49.939618</td>\n",
       "      <td>19.889479</td>\n",
       "      <td>2000.0</td>\n",
       "      <td>brak</td>\n",
       "      <td>polna</td>\n",
       "      <td>brak</td>\n",
       "      <td>brak</td>\n",
       "      <td>brak</td>\n",
       "      <td>brak</td>\n",
       "      <td>360000.0</td>\n",
       "    </tr>\n",
       "    <tr>\n",
       "      <th>7625</th>\n",
       "      <td>49.907755</td>\n",
       "      <td>20.200424</td>\n",
       "      <td>35.2</td>\n",
       "      <td>brak</td>\n",
       "      <td>polna</td>\n",
       "      <td>brak</td>\n",
       "      <td>brak</td>\n",
       "      <td>brak</td>\n",
       "      <td>brak</td>\n",
       "      <td>315000.0</td>\n",
       "    </tr>\n",
       "    <tr>\n",
       "      <th>7626</th>\n",
       "      <td>50.026720</td>\n",
       "      <td>19.700051</td>\n",
       "      <td>4400.0</td>\n",
       "      <td>szambo</td>\n",
       "      <td>polna</td>\n",
       "      <td>brak</td>\n",
       "      <td>brak</td>\n",
       "      <td>brak</td>\n",
       "      <td>brak</td>\n",
       "      <td>160000.0</td>\n",
       "    </tr>\n",
       "    <tr>\n",
       "      <th>7627</th>\n",
       "      <td>49.987773</td>\n",
       "      <td>19.679529</td>\n",
       "      <td>4400.0</td>\n",
       "      <td>brak</td>\n",
       "      <td>polna</td>\n",
       "      <td>brak</td>\n",
       "      <td>brak</td>\n",
       "      <td>brak</td>\n",
       "      <td>brak</td>\n",
       "      <td>440000.0</td>\n",
       "    </tr>\n",
       "    <tr>\n",
       "      <th>7628</th>\n",
       "      <td>49.987773</td>\n",
       "      <td>19.679529</td>\n",
       "      <td>2200.0</td>\n",
       "      <td>brak</td>\n",
       "      <td>polna</td>\n",
       "      <td>brak</td>\n",
       "      <td>brak</td>\n",
       "      <td>brak</td>\n",
       "      <td>brak</td>\n",
       "      <td>220000.0</td>\n",
       "    </tr>\n",
       "  </tbody>\n",
       "</table>\n",
       "<p>7629 rows × 10 columns</p>\n",
       "</div>"
      ],
      "text/plain": [
       "      localization_y  localization_x    area  sewers        road     fence  \\\n",
       "0          51.835925       19.193010  1004.0    brak  utwardzana      brak   \n",
       "1          50.472433       19.233789    18.0  szambo   asfaltowa  żywopłot   \n",
       "2          51.801330       19.189772  1200.0    brak  utwardzana      brak   \n",
       "3          53.723500       20.867400  1262.0    brak  utwardzana      brak   \n",
       "4          52.094000       20.807400   950.0    brak  utwardzana      brak   \n",
       "...              ...             ...     ...     ...         ...       ...   \n",
       "7624       49.939618       19.889479  2000.0    brak       polna      brak   \n",
       "7625       49.907755       20.200424    35.2    brak       polna      brak   \n",
       "7626       50.026720       19.700051  4400.0  szambo       polna      brak   \n",
       "7627       49.987773       19.679529  4400.0    brak       polna      brak   \n",
       "7628       49.987773       19.679529  2200.0    brak       polna      brak   \n",
       "\n",
       "                      water electricity   gas     price  \n",
       "0         wodociąg w drodze    w drodze  brak   90360.0  \n",
       "1       wodociąg na działce  na działce  brak  229000.0  \n",
       "2                      brak        brak  brak   84000.0  \n",
       "3     własne ujęcie/studnia        brak  brak   88340.0  \n",
       "4                      brak        brak  brak  295000.0  \n",
       "...                     ...         ...   ...       ...  \n",
       "7624                   brak        brak  brak  360000.0  \n",
       "7625                   brak        brak  brak  315000.0  \n",
       "7626                   brak        brak  brak  160000.0  \n",
       "7627                   brak        brak  brak  440000.0  \n",
       "7628                   brak        brak  brak  220000.0  \n",
       "\n",
       "[7629 rows x 10 columns]"
      ]
     },
     "execution_count": 3,
     "metadata": {},
     "output_type": "execute_result"
    }
   ],
   "source": [
    "frame"
   ]
  },
  {
   "cell_type": "code",
   "execution_count": 5,
   "metadata": {},
   "outputs": [
    {
     "name": "stdout",
     "output_type": "stream",
     "text": [
      "<class 'pandas.core.frame.DataFrame'>\n",
      "RangeIndex: 7629 entries, 0 to 7628\n",
      "Data columns (total 10 columns):\n",
      " #   Column          Non-Null Count  Dtype  \n",
      "---  ------          --------------  -----  \n",
      " 0   localization_y  7629 non-null   float64\n",
      " 1   localization_x  7629 non-null   float64\n",
      " 2   area            7629 non-null   float64\n",
      " 3   sewers          7629 non-null   object \n",
      " 4   road            7629 non-null   object \n",
      " 5   fence           7629 non-null   object \n",
      " 6   water           7629 non-null   object \n",
      " 7   electricity     7629 non-null   object \n",
      " 8   gas             7629 non-null   object \n",
      " 9   price           7629 non-null   float64\n",
      "dtypes: float64(4), object(6)\n",
      "memory usage: 596.1+ KB\n"
     ]
    }
   ],
   "source": [
    "frame.info()"
   ]
  },
  {
   "cell_type": "markdown",
   "metadata": {},
   "source": [
    "## creating dummy variables"
   ]
  },
  {
   "cell_type": "code",
   "execution_count": 8,
   "metadata": {},
   "outputs": [],
   "source": [
    "dummies = pd.get_dummies(frame[['sewers','road','fence','water','electricity','gas']],drop_first=True)\n",
    "frame = frame.drop(['sewers','road','fence','water','electricity','gas'],axis=1)\n",
    "frame = pd.concat([frame,dummies],axis=1)"
   ]
  },
  {
   "cell_type": "code",
   "execution_count": 10,
   "metadata": {},
   "outputs": [
    {
     "name": "stdout",
     "output_type": "stream",
     "text": [
      "<class 'pandas.core.frame.DataFrame'>\n",
      "RangeIndex: 7629 entries, 0 to 7628\n",
      "Data columns (total 25 columns):\n",
      " #   Column                                   Non-Null Count  Dtype  \n",
      "---  ------                                   --------------  -----  \n",
      " 0   localization_y                           7629 non-null   float64\n",
      " 1   localization_x                           7629 non-null   float64\n",
      " 2   area                                     7629 non-null   float64\n",
      " 3   price                                    7629 non-null   float64\n",
      " 4   sewers_miejska                           7629 non-null   uint8  \n",
      " 5   sewers_przydomowa oczyszczalnia ścieków  7629 non-null   uint8  \n",
      " 6   sewers_szambo                            7629 non-null   uint8  \n",
      " 7   road_kostka brukowa                      7629 non-null   uint8  \n",
      " 8   road_polna                               7629 non-null   uint8  \n",
      " 9   road_utwardzana                          7629 non-null   uint8  \n",
      " 10  fence_brak                               7629 non-null   uint8  \n",
      " 11  fence_drewniane                          7629 non-null   uint8  \n",
      " 12  fence_inne                               7629 non-null   uint8  \n",
      " 13  fence_metalowe                           7629 non-null   uint8  \n",
      " 14  fence_mieszane                           7629 non-null   uint8  \n",
      " 15  fence_murowane                           7629 non-null   uint8  \n",
      " 16  fence_siatka                             7629 non-null   uint8  \n",
      " 17  fence_żywopłot                           7629 non-null   uint8  \n",
      " 18  water_wodociąg na działce                7629 non-null   uint8  \n",
      " 19  water_wodociąg w drodze                  7629 non-null   uint8  \n",
      " 20  water_własne ujęcie/studnia              7629 non-null   uint8  \n",
      " 21  electricity_na działce                   7629 non-null   uint8  \n",
      " 22  electricity_w drodze                     7629 non-null   uint8  \n",
      " 23  gas_na działce                           7629 non-null   uint8  \n",
      " 24  gas_w drodze                             7629 non-null   uint8  \n",
      "dtypes: float64(4), uint8(21)\n",
      "memory usage: 395.0 KB\n"
     ]
    }
   ],
   "source": [
    "frame.info()"
   ]
  },
  {
   "cell_type": "markdown",
   "metadata": {},
   "source": [
    "## train test split"
   ]
  },
  {
   "cell_type": "code",
   "execution_count": 11,
   "metadata": {},
   "outputs": [],
   "source": [
    "X = frame.drop('price',axis=1)\n",
    "y = frame['price']"
   ]
  },
  {
   "cell_type": "code",
   "execution_count": 12,
   "metadata": {},
   "outputs": [],
   "source": [
    "from sklearn.model_selection import train_test_split"
   ]
  },
  {
   "cell_type": "code",
   "execution_count": 13,
   "metadata": {},
   "outputs": [],
   "source": [
    "X_train, X_test, y_train, y_test = train_test_split(X, y, test_size=0.25)"
   ]
  },
  {
   "cell_type": "markdown",
   "metadata": {},
   "source": [
    "## scaling"
   ]
  },
  {
   "cell_type": "code",
   "execution_count": 14,
   "metadata": {},
   "outputs": [],
   "source": [
    "from sklearn.preprocessing import MinMaxScaler"
   ]
  },
  {
   "cell_type": "code",
   "execution_count": 15,
   "metadata": {},
   "outputs": [],
   "source": [
    "scaler = MinMaxScaler()"
   ]
  },
  {
   "cell_type": "code",
   "execution_count": 16,
   "metadata": {},
   "outputs": [],
   "source": [
    "X_train= scaler.fit_transform(X_train)"
   ]
  },
  {
   "cell_type": "code",
   "execution_count": 17,
   "metadata": {},
   "outputs": [],
   "source": [
    "X_test = scaler.transform(X_test)"
   ]
  },
  {
   "cell_type": "code",
   "execution_count": 18,
   "metadata": {},
   "outputs": [
    {
     "data": {
      "text/plain": [
       "(5721, 24)"
      ]
     },
     "execution_count": 18,
     "metadata": {},
     "output_type": "execute_result"
    }
   ],
   "source": [
    "X_train.shape"
   ]
  },
  {
   "cell_type": "code",
   "execution_count": 19,
   "metadata": {},
   "outputs": [
    {
     "data": {
      "text/plain": [
       "(1908, 24)"
      ]
     },
     "execution_count": 19,
     "metadata": {},
     "output_type": "execute_result"
    }
   ],
   "source": [
    "X_test.shape"
   ]
  },
  {
   "cell_type": "markdown",
   "metadata": {},
   "source": [
    "## creating model "
   ]
  },
  {
   "cell_type": "code",
   "execution_count": null,
   "metadata": {},
   "outputs": [],
   "source": []
  }
 ],
 "metadata": {
  "kernelspec": {
   "display_name": "Python 3",
   "language": "python",
   "name": "python3"
  },
  "language_info": {
   "codemirror_mode": {
    "name": "ipython",
    "version": 3
   },
   "file_extension": ".py",
   "mimetype": "text/x-python",
   "name": "python",
   "nbconvert_exporter": "python",
   "pygments_lexer": "ipython3",
   "version": "3.6.12"
  }
 },
 "nbformat": 4,
 "nbformat_minor": 4
}
